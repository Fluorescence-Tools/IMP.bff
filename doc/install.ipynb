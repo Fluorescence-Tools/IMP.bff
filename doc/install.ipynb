{
 "cells": [
  {
   "cell_type": "markdown",
   "id": "5f9e2244-2c2e-472d-ab13-64b820e84394",
   "metadata": {},
   "source": [
    "# Installation\n",
    "`IMP.bff` is installed from prebuilt binaries using the [Conda](https://docs.conda.io) package manager. Conda is included as part of the Anaconda Python distribution, which you can download from https://docs.continuum.io/anaconda/install. Anaconda is a Python distribution specifically designed for scientific applications, with many of the most popular mathematical and scientific packages preinstalled. Alternatively, `IMP.bff` can be installed in a Miniconda distribuition (available from https://docs.conda.io/en/latest/miniconda.html). Miniconda includes only Python itself, plus the Conda package manager. Miniconda offers a much smaller initial download, with the ability to then install only the packages you want."
   ]
  },
  {
   "cell_type": "markdown",
   "id": "528b628f-b1da-40ed-a43b-e294435d56f9",
   "metadata": {},
   "source": [
    "## Binaries\n",
    "\n",
    "1. Begin by installing a recent 64 bit, Python 3.x version of either\n",
    "Anaconda or Miniconda.\n",
    "2. Open a command line terminal and type the following command\n",
    "```bash\n",
    "conda install -c conda-forge imp.bff\n",
    "```\n",
    "This will install a version of `IMP.bff` compiled with the latest version of IMP. Alternatively you can request a version that is compiled for a specific IMP version with the command\n",
    "\n",
    "```bash\n",
    "conda install -c tpeulen imp.bff imp=2.17\n",
    "```\n",
    "where `2.17` should be replaced with the particular IMP version you want to target. We build packages for IMP 2.17 and above for Linux, Windows, and macOS (x86). Because different IMP releases are not binary compatible with each other, `IMP.bff` can only work with the particular IMP version it was compiled with.\n",
    "<div class=\"alert alert-info\">\n",
    "Future IMP.bff releases may be distributed together with IMP.\n",
    "</div>\n",
    "3. Optionally verify your installation using the unit-test that ship with the `IMP.bff` git repository by typing the following commands:\n",
    "\n",
    "```bash\n",
    "    conda install nose git\n",
    "    git clone https://gitlab.peulen.xyz/imp/bff\n",
    "    cd bff/test\n",
    "    nosetests\n",
    "```\n",
    "The `nosetests` command verifies that `IMP.bff` produces consistent results."
   ]
  },
  {
   "cell_type": "markdown",
   "id": "3c18b8e7-c92e-4a8a-8d00-a7405ee05509",
   "metadata": {},
   "source": [
    "## Compilation\n",
    "A second option is to compile `IMP.bff` from source. This provides more flexibility, but it is much more work, and there is rarely a need for anyone but advanced users to compile from source. `IMP.bff` can be compiled and installed using the source code provided in the git repository. `IMP.bff` is compiled in Docker environments. The continuous integration pipeline in `.gitlab-ci.yml` can serve as a reference for compilation. As an IMP module `IMP.bff` can be compiled either together with IMP or out of tree (https://integrativemodeling.org/2.17.0/doc/manual/outoftree.html).\n",
    "\n",
    "On windows `IMP.bff` is compiled with the [Visual Studio 2019](https://visualstudio.microsoft.com). For compilation the Visual Studio Community edition is sufficient. In addition to Visual Studio the libraries and the include files as listed above need to be installed. The prebuilt binaries are compiled on Windows 10 with using 64bit anaconda Python environments [miniconda](https://docs.conda.io/en/latest/miniconda.html) using the conda build recipe that is provided with the source code in the `conda-recipe` folder or take a look at the `Dockerfile` that is used to create a Windows build environment. For MacOS the prebuilt binaries are compiled on MacOS 10.14 with the Apple clang compiler using a anaconda distribution and the provided `conda-recipe`. The Linux prebuilt binaries are compiled on Ubuntu 18.04 in an anaconda distribution and the provided `conda-recipe`."
   ]
  }
 ],
 "metadata": {
  "kernelspec": {
   "display_name": "Python 3 (ipykernel)",
   "language": "python",
   "name": "python3"
  },
  "language_info": {
   "codemirror_mode": {
    "name": "ipython",
    "version": 3
   },
   "file_extension": ".py",
   "mimetype": "text/x-python",
   "name": "python",
   "nbconvert_exporter": "python",
   "pygments_lexer": "ipython3",
   "version": "3.10.6"
  }
 },
 "nbformat": 4,
 "nbformat_minor": 5
}
