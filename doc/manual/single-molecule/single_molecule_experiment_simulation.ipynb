{
 "cells": [
  {
   "cell_type": "markdown",
   "id": "8107ebed-7984-4653-965e-eb78e90e3c63",
   "metadata": {},
   "source": [
    "# Simulating confocal smFRET experiments"
   ]
  },
  {
   "cell_type": "markdown",
   "id": "30dad259-180c-4f23-adb4-709f07b43631",
   "metadata": {},
   "source": [
    "The methods to simulate confocal smFRET experiments were previously described [[PD]](https://pubs.acs.org/doi/10.1021/jp102156t) in detail implemented in public available software [[CO]](https://www.sciencedirect.com/science/article/pii/S0959440X1630197X) at the [model archive](https://www.modelarchive.org/api/projects/ma-a2hbq) and [github](https://github.com/fluorescence-tools/). The input for confocal single molecule (sm) Foerster Resonance Energy (FRET) experiment simulations is generated in multiple steps that make use of different software packages. These steps are briefly outlined in this tutorial.\n",
    "\n",
    "## Simulating fluorescence\n",
    "Simulations of a confocal experiment of biomolecules require knowledge of dye properties and photophysics of biomolecular states, defined experimental setups, and single molecule diffusion to compute photon traces. This tutorial focuses on spectroscopic aspects. A simulation of a confocal single molecule FRET experiment requires the fluorescent properties of a set of states. Simulations of dynamic molecules moreover require exchange rate constants among the states. In fluorescence experiments a state is defined by its brightness in the detection channels and a set of fluorescence lifetimes and anisotropy. The fluorescence lifetimes and anisotropy result in polarization dependent fluorescence decay patterns [FL](https://www.ncbi.nlm.nih.gov/pmc/articles/PMC9014241/). The brightness is the number of photons per unit of time that a molecule emits in a given state.\n",
    "\n",
    "Thus, to simulate a smFRET experiment for a biomolecular structure the fluorescence properties for that structure need to be determined. In a confocal single molecule experiment on biomolecules biomolecules are usually labeled by an externally introduced dyes that are flexibly tethered to the studied molecules. Thus, the fluorescence lifetimes and anisotropies of a state depend on the conformation of host molecules and the dyes. For accurate analysis and simulations the flexible tethering needs to be taken into consideration when defining a state for the simulations [RT](https://www.nature.com/articles/nmeth.2222). Fluorescence properties of dyes are modulated by their environment. Fluorophores can interact with their local environment. These interactions alter the fluorescence lifetime of a dye. In a FRET experiment that measures the migration of energy from an excited donor dye to an acceptor dye two major effects need to be considered: (i) the donor can be quenched by its local environment (Photoinduced Electron Transfer, PET) and (ii) the donor can be quenched by the acceptor by the energy migration to the acceptor (FRET). PET is a dynamic process influenced by dye diffusion [ET](https://pubs.acs.org/doi/full/10.1021/acs.jpcb.7b03441). Thus, the conformation of the host molecule together with dye properties result in lifetime distributions for the simulations of biomolecular states. Interestingly, for typical flexible tethered dyes the quenching by PET and FRET can be approximated to be independent [ET](https://pubs.acs.org/doi/full/10.1021/acs.jpcb.7b03441). Thus, in the presented pipeline FRET is computed independently of PET.\n",
    "\n",
    "In systems with multiple biomolecular states moreover, equilibrium populations of states, the kinetic exchange among the states and the experimental setup and the measurement process needs to be simulated.\n",
    "\n",
    "## Simulation software\n",
    "This tutorial makes use of: \n",
    "\n",
    "1. `Olga` - for simulating labels and inter-label distance distributions in FRET experiments\n",
    "1. Quenching Estimator (`QuEst`) - for estimating dynamic quenching (PET)\n",
    "2. `ChiSurf` - for scripting and computation of fluorescence decay curves\n",
    "3. `Burbulator` - for simulating a confocal setup, molecular diffusion, molecular kinetics, and photon traces.\n",
    "\n",
    "`Olga` is a program that simulates the distribution of dyes around their attachment site to compute distance distributions and corresponding distance distributions between dyes. `QuEst` (Quenching Estimator) is a program that simulates the diffusion of a dyes within its accessible volume to estimate the magnitue of local quenching. ChiSurf is a software package for the global analysis of fluorescence data. `ChiSurf` comes with forward models for fluorescence decays and can be scripted using Python. Thus, `ChiSurf` is used to compute fluorescence decay patterns for structures that server as an input for single-molecule simulations. `Burbulator` is a program to simulate confocal single-molecule experiments (including the kinetic exchange among different states). Burbulator uses polarization resolved fluorescence decay patterns and brightness as an input to define states and simulate photon traces."
   ]
  },
  {
   "cell_type": "markdown",
   "id": "f177da18-ba53-4d04-b23b-242dae8206d3",
   "metadata": {},
   "source": [
    "## Olga: Label simulations\n",
    "\n",
    "`Olga` is a software to simulate inter-label distance distribitions for molecular structures. `Olga` is available at https://github.com/fluorescence-tools/Olga. To simulate inter-label distances Olga requires label properties, labeling sites, and molecular structures as an input. Label properties and labeling sites are defined in JSON file. Atomic coordinates of molecular structures can be read from PDB files or DCD trajectories. For a structure and label pair Olga simulates the positional distribution of the label around their attachment site (see below).\n",
    "\n",
    "![AV clouds](https://github.com/Fluorescence-Tools/Olga/blob/master/doc/screening%20tutorial/DNA_AVs.jpg?raw=true)\n",
    "\n",
    "Given an ensemble of structures and a set of labeling pairs, `Olga` can rank the labeling pairs based on their information content [AF](https://www.nature.com/articles/s41467-020-19023-1). Moreover, `Olga` can compute inter-label distance distribitions among experimental observables such as average FRET efficiencies to rank structural models. The computed distance distributions for a set of structures servers as an input modeled photon traces.\n"
   ]
  },
  {
   "cell_type": "markdown",
   "id": "b14e0d1d-30d5-4121-9043-fdd6b970f268",
   "metadata": {},
   "source": [
    "## QuEst: PET donor quenching\n",
    "\n",
    "---\n",
    "_Input_: Molecular structure\n",
    "\n",
    "_Output_: Fluorescence properties of donor (e.g., decay) in the absence of FRET\n",
    "\n",
    "---\n",
    "\n",
    "`QuEst` simulates the diffusion and interaction of dyes tethered to a protein to simulate dynmaic quenching by PET, [[ET]](https://pubs.acs.org/doi/full/10.1021/acs.jpcb.7b03441)). `QuEst` is available at https://github.com/fluorescence-tools/QuEst. The output of a `QuEst` simulation is a fluorescence decay curve of a dye along with the corresponding fluorescence quantum yield that can serve as an input for donor fluorescence properties in FRET experiment simulations. \n",
    "\n",
    "![Quest_gui](https://github.com/Fluorescence-Tools/quest/raw/master/doc/img/readme_screenshot_0.png?raw=true)\n",
    "\n",
    "`QuEst` simulates fluorescence decays is three stages:\n",
    "\n",
    "1. Identification of quenching amino acids (above highlighted in red)\n",
    "2. Simulation of the dye diffusion and interaction (sticking) to the protein surface\n",
    "3. Using the dye simulation the excitation, quenching, and fluorescence of the dye is simulated \n",
    "\n",
    "\n",
    "The output of `QuEst` is a fluorescence decay curve for a specific labeling position."
   ]
  },
  {
   "cell_type": "markdown",
   "id": "00d17a88-f54f-46a9-b1a4-2e7132a90b90",
   "metadata": {},
   "source": [
    "## ChiSurf: Computing of decay pattern\n",
    "\n",
    "---\n",
    "\n",
    "_Input_: Instrumental features (e.g., IRF), Fluorescence decay in the absence of FRET, distance distributions\n",
    "\n",
    "\n",
    "_Output_: Fluorescence decay in the presence of FRET\n",
    "\n",
    "---\n",
    "\n",
    "`ChiSurf` is software to design representations and optimize, sampling, over representation parameters of fluorescence data. `ChiSurf` provides scoring functions and forward models and scripting capabilities. A subset of the functionality us used here to compute fluorescence decay pattern as an input for the simulation software `Burbulator`. Releases of `ChiSurf` can be downloaded at [GitHub](https://github.com/fluorescence-tools/chisurf) and [GitLab](https://gitlab.peulen.xyz) and the release [archive](https://peulen.xyz/downloads/chisurf/).\n",
    "\n",
    "\n",
    "\n",
    "\n",
    "_Output_: Fluorescence decays in the presence of FRET\n"
   ]
  },
  {
   "cell_type": "markdown",
   "id": "5f328c98-de4e-4ccd-8414-b9a135958ed0",
   "metadata": {},
   "source": [
    "## Burbulator: Single-molecule spectroscopy simulation\n",
    "\n",
    "---\n",
    "\n",
    "_Input_: decay pattern, kinetic rate constants, diffusion coefficients\n",
    "\n",
    "\n",
    "_Output_: Single photon trace\n",
    "\n",
    "---\n",
    "\n",
    "The simulation software for confocal single molecule (FRET) experiment (`Burbulator`) was developed for Windows and that can be used on other platforms such as Linux and macOS using [Wine](https://www.winehq.org/). To obtain Burbulator download the data accompanying [[CO]](https://www.sciencedirect.com/science/article/pii/S0959440X1630197X) either with curl or using a webbrowser with the following [link](https://www.modelarchive.org/doi/10.5452/ma-a2hbq). Unfortunatelly, the `modelarchive` website will provide you with a file named wrongly as a `.cif`. Thus, you need to rename the file to correct file type `.tar.gz`. "
   ]
  },
  {
   "cell_type": "code",
   "execution_count": 2,
   "id": "a2ffd392-1adf-445a-928a-77d05105d423",
   "metadata": {},
   "outputs": [
    {
     "name": "stdout",
     "output_type": "stream",
     "text": [
      "  % Total    % Received % Xferd  Average Speed   Time    Time     Time  Current\n",
      "                                 Dload  Upload   Total   Spent    Left  Speed\n",
      "100 12.1M  100 12.1M    0     0  8869k      0  0:00:01  0:00:01 --:--:-- 8874k\n",
      "tar: Removing leading `/' from member names\n"
     ]
    }
   ],
   "source": [
    "! mkdir cosb_model\n",
    "! curl https://www.modelarchive.org/api/projects/ma-a2hbq?type=basic__model_file_name -o cosb_model.tar.gz\n",
    "! tar xfz cosb_model.tar.gz -C cosb_model"
   ]
  },
  {
   "cell_type": "markdown",
   "id": "cdc6be97-1473-44eb-a9cb-c076abbadc35",
   "metadata": {},
   "source": [
    "In the archive you find the Burbulator program (`Burbulator.exe`) along with necessary runtimes (`VC++ runtime 6195`), a brief description that (`burbulator help.pdf`) that outlines the theory, and the file `Description.pdf` (in the root directory of the archive) that describes in greater detail the usage of Burbulator. The output of a Burbulator simulation are Becker&Hickl SPC files that can be processes using conventional single-molecule [FRET software](https://fret.community/software/)."
   ]
  }
 ],
 "metadata": {
  "kernelspec": {
   "display_name": "Python 3 (ipykernel)",
   "language": "python",
   "name": "python3"
  },
  "language_info": {
   "codemirror_mode": {
    "name": "ipython",
    "version": 3
   },
   "file_extension": ".py",
   "mimetype": "text/x-python",
   "name": "python",
   "nbconvert_exporter": "python",
   "pygments_lexer": "ipython3",
   "version": "3.10.6"
  }
 },
 "nbformat": 4,
 "nbformat_minor": 5
}
