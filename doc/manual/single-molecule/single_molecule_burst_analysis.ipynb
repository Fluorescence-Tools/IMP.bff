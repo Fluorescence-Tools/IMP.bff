{
 "cells": [
  {
   "cell_type": "markdown",
   "id": "f1eb70b0-178e-4ddf-a5d2-a14bac263231",
   "metadata": {},
   "source": [
    "# Burst Analysis\n",
    "\n",
    "## Multiparameter fluorescence detection\n",
    "In a single-molecule confocal experiment, single molecules are detected during\n",
    "their free diffusion through a confocal volume. The resulting photon bursts\n",
    "are selected from the recorded photon trace after separation of the background.\n",
    "Usually this is accomplished by applying a threshold for the maximum inter-photon\n",
    "time and a minimum photon number within a burst (typically 30-160 photons). The\n",
    "burst-duration is determined mainly by the experimental setup and the molecular\n",
    "dimensions. As the molecules are freely diffusing a distribution of burst durations\n",
    "is observed and the fluorescence observables are averaged according to the individual\n",
    "burst durations. To obtain equal averaging the observation times can be unified \n",
    ":cite:`fries1998quantitative`.\n",
    "\n",
    "Due to the low number of photons (60-500 photons per burst) detected per burst it\n",
    "is not reasonable to apply complex models to describe the fluorescence intensity\n",
    "decays. However, an averaged fluorescence lifetime can be determined for each burst\n",
    "using maximum likelihood algorithms :cite:`maus2001experimental`. Note that the determined lifetime\n",
    "is the fluorescence weighted average lifetime, :$\\langle \\tau \\rangle_F$, and not the\n",
    "species weighted average lifetime, $\\langle \\tau \\rangle_x$. Given a mixture of\n",
    "fluorescence species with the species fractions $x^{i}$ and corresponding\n",
    "lifetimes $\\tau^{i}$ those averages are given by:\n",
    "\n",
    "$$\n",
    "    \\langle \\tau \\rangle_x = \\sum_i x^{(i)} \\tau^{(i)}\n",
    "    \\langle \\tau \\rangle_F = \\frac{1}{\\langle \\tau \\rangle_x} \\sum_i x^{(i)} (\\tau^{(i)})^2\n",
    "$$\n",
    "\n",
    "For each burst several fluorescence parameters are determined, e.g. the green-red intensity ratio (FD/FA),\n",
    "the FRET efficiency (E) or the scatter-corrected anisotropy (:math:`r_scatter`).\n",
    "Based on these parameter multi-dimensional frequency histograms can be constructed.\n",
    "\n",
    "## PIE\n",
    "An analysis of a MFD-PIE measurement with multidimensional histograms is in\n",
    "application :cite:`kudryavtsev2012combining`. The macro time (in seconds) is\n",
    "used to track changes in sample properties (e.g. degradation, adsorption,\n",
    "or FRET levels shift) in the course of the measurement. Comparison of burst\n",
    "length of two PIE-channels $T_{G+R|D}-T_{R|A}$  provides a mean to filter\n",
    "bursts exhibiting acceptor dye photobleaching, which may be otherwise confused with\n",
    "FRET dynamics. Here $T_{G+R|D}$ is the mean macro time of the photons detected\n",
    "in the donor- or acceptor channel after donor excitation and $T_{R|A}$ is\n",
    "the mean macro time of red photons after direct excitation of the acceptor\n",
    ":cite:`kudryavtsev2012combining`. The PIE stoichiometry, :math:`S_{PIE}`, is used to\n",
    "filter FRET molecules (D,A) from incomplete (D,0) (A,0) or mislabeled molecules (A,A) (D,D).\n",
    "The PIE stoichiometry is given by:\n"
   ]
  },
  {
   "cell_type": "markdown",
   "id": "3ec7639e-55ae-4abe-a300-0626d5e0d6fd",
   "metadata": {},
   "source": [
    "$$\n",
    "    S_{PIE}=\\frac{F_{R|D}-\\beta F_{R|A} - \\alpha F_{G|D} + \\gamma F_{G|D}}{F_{R|D} - \\beta F_{R|A} - \\alpha F_{G|D} + \\gamma F_{G|D} + F_{R|A}}\n",
    "$$\n"
   ]
  },
  {
   "cell_type": "markdown",
   "id": "1ab0a6c1-9e68-4c77-85e4-bbf349abaf04",
   "metadata": {},
   "source": [
    "\n",
    "where $F_{G|D}$ , $F_{R|D}$, and $F_{R|A}$ are background corrected\n",
    "fluorescence intensities measured in the donor channel after donor excitation\n",
    "($G|D$), in the acceptor channel after donor excitation ($R|D$) and\n",
    "direct acceptor excitation ($R|A$), respectively, $\\alpha$ is the\n",
    "correction factor for donor fluorescence crosstalk into the acceptor channel, $\\beta$ is the correction\n",
    "factor for acceptor excitation by the donor excitation source, and\n",
    "$\\gamma = \\Phi_{F,A}^{(A,0)}/\\Phi_{F,D}^{(D,0)}\\cdot g_R /g_G$ depend on the fluorescence\n",
    "quantum yields, $\\Phi_{F}$ and detection efficiencies $g$.\n"
   ]
  },
  {
   "cell_type": "code",
   "execution_count": null,
   "id": "61134b8c-ba7a-4d4d-99b2-5087007ec0c3",
   "metadata": {},
   "outputs": [],
   "source": []
  }
 ],
 "metadata": {
  "kernelspec": {
   "display_name": "Python 3 (ipykernel)",
   "language": "python",
   "name": "python3"
  },
  "language_info": {
   "codemirror_mode": {
    "name": "ipython",
    "version": 3
   },
   "file_extension": ".py",
   "mimetype": "text/x-python",
   "name": "python",
   "nbconvert_exporter": "python",
   "pygments_lexer": "ipython3",
   "version": "3.10.6"
  }
 },
 "nbformat": 4,
 "nbformat_minor": 5
}
