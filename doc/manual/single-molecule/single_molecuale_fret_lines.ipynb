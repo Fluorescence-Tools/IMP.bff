{
 "cells": [
  {
   "cell_type": "markdown",
   "id": "77273fb4-a270-4259-98e6-e835dc68a2ed",
   "metadata": {},
   "source": [
    "# FRET-lines"
   ]
  },
  {
   "cell_type": "markdown",
   "id": "cd49b8f4-5905-4e44-ba14-25d5bf289411",
   "metadata": {},
   "source": [
    "In these multidimensional histograms from MFD or MFD-PIE experiments the comparison between theoretical and observed fluorescence parameters reveal sample properties. Here the theoretical relation between intensity based FRET-indicators (e.g. $F_D/F_A$ or $E$) and $\\langle \\tau \\rangle_F$ are called FRET-lines. In the case of a mono-exponential donor decay and no conformational dynamics this relation is given by:\n",
    "\n",
    "$$\n",
    "   E = \\left [ 1 + \\gamma` \\frac{F_{D|D}}{F_{A|D}}\\right ]\n",
    "$$\n",
    "\n"
   ]
  },
  {
   "cell_type": "code",
   "execution_count": null,
   "id": "e7b1fc9b-1c3f-4747-bc22-2a856502b204",
   "metadata": {},
   "outputs": [],
   "source": []
  }
 ],
 "metadata": {
  "kernelspec": {
   "display_name": "Python 3 (ipykernel)",
   "language": "python",
   "name": "python3"
  },
  "language_info": {
   "codemirror_mode": {
    "name": "ipython",
    "version": 3
   },
   "file_extension": ".py",
   "mimetype": "text/x-python",
   "name": "python",
   "nbconvert_exporter": "python",
   "pygments_lexer": "ipython3",
   "version": "3.10.6"
  }
 },
 "nbformat": 4,
 "nbformat_minor": 5
}
