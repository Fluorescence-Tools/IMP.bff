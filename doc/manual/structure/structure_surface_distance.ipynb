{
 "cells": [
  {
   "cell_type": "markdown",
   "id": "421fa3c5-d55a-4e39-8d49-d5394c91cb21",
   "metadata": {},
   "source": [
    "# Surface distance"
   ]
  },
  {
   "cell_type": "code",
   "execution_count": 1,
   "id": "1643a717-5076-4f72-b291-fb7e86d2d8b0",
   "metadata": {},
   "outputs": [],
   "source": [
    "import IMP"
   ]
  },
  {
   "cell_type": "code",
   "execution_count": null,
   "id": "04a10ac1-bf64-4ce1-bd0a-60e3e61296de",
   "metadata": {},
   "outputs": [],
   "source": []
  }
 ],
 "metadata": {
  "kernelspec": {
   "display_name": "Python 3 (ipykernel)",
   "language": "python",
   "name": "python3"
  },
  "language_info": {
   "codemirror_mode": {
    "name": "ipython",
    "version": 3
   },
   "file_extension": ".py",
   "mimetype": "text/x-python",
   "name": "python",
   "nbconvert_exporter": "python",
   "pygments_lexer": "ipython3",
   "version": "3.10.6"
  }
 },
 "nbformat": 4,
 "nbformat_minor": 5
}
