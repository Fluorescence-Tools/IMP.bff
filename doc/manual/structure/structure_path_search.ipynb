{
 "cells": [
  {
   "cell_type": "markdown",
   "id": "2318d99e-9af7-49cb-823d-7c18c0fcc2ad",
   "metadata": {},
   "source": [
    "# Path search"
   ]
  },
  {
   "cell_type": "markdown",
   "id": "9bcd263e-c73e-49e9-8558-f3204634bfc0",
   "metadata": {},
   "source": [
    "`IMP.bff` implements a set of graph traversal algorithms to find optimal paths from a starting node to end nodes in the presence of obstacles. Here, nodes are points on a grid around a starting node. Obstacles are usually atoms, residues, or proteins (e.g., represented as rigid bodies). If path map used in label-based distance experiment, the starting node is (usually) a attachment site of a label. `IMP.bff` implements the Dijkstra's and the A* algorithm for finding the shortest paths between nodes in a graph."
   ]
  },
  {
   "cell_type": "markdown",
   "id": "10c980f9-7d4b-4ffe-a67a-e1de5292d4cd",
   "metadata": {},
   "source": [
    "## Dijkstra's algorithm\n",
    "The Dijkstra's algorithm finds for a given source (start) node in the graph the shortest path between that node and every other node. It can also be used for finding the shortest paths from a single node to a single destination node by stopping the algorithm once the shortest path to the destination node has been determined.\n"
   ]
  },
  {
   "cell_type": "markdown",
   "id": "fa21b205-62e9-4ed4-adaf-45e10be221cd",
   "metadata": {},
   "source": [
    "## A star\n",
    "The A* (pronounced \"A-star\") algorithm is a graph traversal and path search algorithm that finds an optimal path between a source (start) node and a target node. A* can be seen as an extension of Dijkstra's algorithm that achieves better performance by using heuristics to guide its search.\n"
   ]
  },
  {
   "cell_type": "markdown",
   "id": "64691545-91e5-439d-8431-b6c8b8a32c34",
   "metadata": {},
   "source": [
    "## Applications\n",
    "\n",
    "The path algorithms are used to compute \n",
    "\n",
    "* [Accessible volumes](structure_accessible_volumes.ipynb)\n",
    "* [Surface distances](structure_surface_distance.ipynb)\n",
    "* [Inter-label distance restraints](structure_distance_restaints.ipynb)\n",
    "\n",
    "Programming examples are\n",
    "\n",
    "* [Path search](../../auto_examples/labels/plot_search.ipynb)\n",
    "* [Distance maps](../../auto_examples/labels/plot_path_maps.ipynb)\n",
    "* [Distance maps](../../auto_examples/labels/plot_path_maps.ipynb)\n",
    "* [AV restraint](../../auto_examples/labels/plot_AVScreening.ipynb)\n",
    "* [Scoring with AV restraints](../../auto_examples/labels/plot_AVNetworkRestraint.ipynb)\n",
    "* [IMP AV decorator](../../auto_examples/labels/plot_AVDecorator.ipynb)"
   ]
  }
 ],
 "metadata": {
  "kernelspec": {
   "display_name": "Python 3 (ipykernel)",
   "language": "python",
   "name": "python3"
  },
  "language_info": {
   "codemirror_mode": {
    "name": "ipython",
    "version": 3
   },
   "file_extension": ".py",
   "mimetype": "text/x-python",
   "name": "python",
   "nbconvert_exporter": "python",
   "pygments_lexer": "ipython3",
   "version": "3.10.6"
  }
 },
 "nbformat": 4,
 "nbformat_minor": 5
}
