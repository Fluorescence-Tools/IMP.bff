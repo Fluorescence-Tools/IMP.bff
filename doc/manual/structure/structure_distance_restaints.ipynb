{
 "cells": [
  {
   "cell_type": "markdown",
   "id": "2fa9ce85-9ae2-4295-91df-1b9daa92b198",
   "metadata": {},
   "source": [
    "# Inter-label distance restraint"
   ]
  },
  {
   "cell_type": "markdown",
   "id": "4ca4f508-6413-44ed-ba65-a19c339c02a8",
   "metadata": {},
   "source": [
    "## Score"
   ]
  },
  {
   "cell_type": "markdown",
   "id": "349cbdce-e46b-45ab-9a06-817b4eb67f8a",
   "metadata": {},
   "source": [
    "The default distance restraint for inter-label distances follows closely <cite data-cite=\"kalinin2012toolkit\" >Kalinin et al</cite>. The score is sum of squared deviations between modeled and experimental observables and weighted by the combined experimental and model uncertainty."
   ]
  },
  {
   "cell_type": "markdown",
   "id": "f829d551-c1d8-4817-916b-64c13e37b907",
   "metadata": {},
   "source": [
    "$$\n",
    "\\chi^2 = \\sum_i \\left(\\frac{d_i - m_i}{\\sigma_{\\pm,i}} \\right)^2\n",
    "$$"
   ]
  },
  {
   "cell_type": "markdown",
   "id": "8e213487-f16e-448b-9990-870c5717367e",
   "metadata": {},
   "source": [
    "Here, $m_i$ is a modeled experimental observable, $d_i$ is the corresponding experimental distance, and $\\sigma_{\\pm,i}$ is uncertainty of the observable. The restraint allows to define different weights $\\sigma_{\\pm,i}$ for positive and negative deviations."
   ]
  },
  {
   "cell_type": "markdown",
   "id": "20704514-5814-4de1-bdc2-0030157a6a47",
   "metadata": {},
   "source": [
    "## Observables\n",
    "By (i) simulating the positional distribution, $p(\\vec{r})$, of the labels around their attachment site and (ii) numerical integration \n",
    "\n",
    "* a FRET efficiency, $E$\n",
    "* an average inter-label distance, $\\langle R_{DA} \\rangle$\n",
    "* or a FRET averaged distance, $R_E$\n",
    "\n",
    "a set of modeled observables, ${m_i}$, is computed. Details <cite data-cite=\"dimura2016quantitative\"><cite />"
   ]
  },
  {
   "cell_type": "markdown",
   "id": "b9af796b-72f6-4130-8913-87ef8b7df5d2",
   "metadata": {},
   "source": [
    "## Applications"
   ]
  },
  {
   "cell_type": "markdown",
   "id": "9c327c7b-bc0f-4fc7-a4c6-04fa63ae1f3e",
   "metadata": {},
   "source": [
    "Inter-label distance restraints are used in the following PMI modeling examples:\n",
    "* [T4L (FRET)](../../auto_examples/structure/t4l_pmi.ipynb)\n",
    "* [mGBP2 (FRET, SAXS, Xlink)](../../auto_examples/structure/mGBP2_dimer_fp.ipynb)\n",
    "\n",
    "and the program `imp_bff flexfit`\n",
    "* [TG2 modeling with `imp_bff flexfit`](../../auto_examples/structure/tg2_flexfit.ipynb)"
   ]
  }
 ],
 "metadata": {
  "kernelspec": {
   "display_name": "Python 3 (ipykernel)",
   "language": "python",
   "name": "python3"
  },
  "language_info": {
   "codemirror_mode": {
    "name": "ipython",
    "version": 3
   },
   "file_extension": ".py",
   "mimetype": "text/x-python",
   "name": "python",
   "nbconvert_exporter": "python",
   "pygments_lexer": "ipython3",
   "version": "3.10.6"
  }
 },
 "nbformat": 4,
 "nbformat_minor": 5
}
