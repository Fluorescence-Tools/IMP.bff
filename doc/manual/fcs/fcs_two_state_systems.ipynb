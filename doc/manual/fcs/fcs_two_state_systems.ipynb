{
 "cells": [
  {
   "cell_type": "markdown",
   "id": "06ea422b-50d9-4c2a-80b1-3d5d77bd78a7",
   "metadata": {},
   "source": [
    "## Two-state system"
   ]
  },
  {
   "cell_type": "markdown",
   "id": "81b3b148-4c13-44f8-9b0e-89ee51a8debc",
   "metadata": {},
   "source": [
    "In a two state system given donor excitation an analytical solution assuming equal diffusion coefficients of the states\n",
    "$D_{diff}^{(1)}=D_{diff}^{(2)}$, sole presence of DA-molecules, and absence of bleaching ($G_{G,R}=G_{R,G}$)\n",
    "can be calculated. The number of molecules per species are defined by the equilibrium constant $K$:\n"
   ]
  },
  {
   "cell_type": "markdown",
   "id": "af951290-f8fa-4ee1-b3b9-4142c1dcbcbf",
   "metadata": {},
   "source": [
    "$$\n",
    "    \\\\\n",
    "    K = \\frac{k_{21}}{k_{12}} \\\\\n",
    "    N^{(1)}=N \\cdot \\frac{k_{21}}{k_{12}+k_{12}} \\\\\n",
    "    N^{(2)}=N \\cdot \\frac{k_{12}}{k_{12}+k_{12}}\n",
    "$$"
   ]
  },
  {
   "cell_type": "markdown",
   "id": "377dbdf7-8a75-40da-bce0-6dd4110d739a",
   "metadata": {},
   "source": [
    "Assuming that the characteristic time of the triplet state is much smaller than the relaxation time given by the\n",
    "exchange rate constants ($t_R=(1 / (k_{12} + k_{21})$)\n"
   ]
  },
  {
   "cell_type": "markdown",
   "id": "2e9dbadf-5169-4ba7-8c10-d58236ecfb03",
   "metadata": {},
   "source": [
    "$$\n",
    "    \\\\\n",
    "    G_{G,G}(t_c) = 1 + \\frac{1}{N} G_{diff}(t_c) \\left[ 1+ AC_{G,G} \\exp\\left( -\\frac{t_c}{t_R} \\right)\\right ] \\\\\n",
    "    G_{R,R}(t_c) = 1 + \\frac{1}{N} G_{diff}(t_c) \\left[ 1+ AC_{R,R} \\exp\\left( -\\frac{t_c}{t_R} \\right)\\right ] \\\\\n",
    "    G_{G,R}(t_c) = 1 + \\frac{1}{N} G_{diff}(t_c) \\left[ 1 - (AC_{G,G} \\cdot AC_{R,R})^{1/2} \\exp\\left( -\\frac{t_c}{t_R} \\right)\\right ]\n",
    "    $$"
   ]
  },
  {
   "cell_type": "markdown",
   "id": "48918aba-0719-492b-84ff-d86fbacf9132",
   "metadata": {},
   "source": [
    "\n",
    "Here $G_{diff}(t_c)$ $AC_{G,G}$, $AC_{R,R}$, and $AC_{G,R}$ are the amplitudes of the kinetic\n",
    "reaction terms, which depend on the molecular brightnesses $Q(i)$ of the FRET states.\n"
   ]
  },
  {
   "cell_type": "markdown",
   "id": "078e479f-4979-43a9-a4a6-d77bde762dac",
   "metadata": {},
   "source": [
    "The molecular brightness corresponds to the observed photon count rate per molecule, $Q^{(i)}$, where $F^{(i)}$ is the total number of fluorescence photons of the $N^{(i)}$ molecules of species $i$. The molecular brightness is an intrinsic molecular property of the dyes. It is proportional to the product of the focal excitation irradiance, $I_0$, the extinction coefficient, $\\epsilon^{(i)}$, fluorescence quantum yield, $\\Phi_F^{(i)}$, and spectral dependent detection efficiencies $g_G$ or $g_R$ for green and red detectors, respectively, as $Q_{G,R}^{(i)} \\propto I_0 \\epsilon^{(i)} \\Phi_F^{(i)} g_{G,R}$ <cite data-cite='eggeling2001data,fries1998quantitative'> </cite>.\n",
    "The FRET efficiency $E^{(i)}$ of species $i$ is related to the molecular brightness by the relationship:"
   ]
  },
  {
   "cell_type": "markdown",
   "id": "92d0f70a-61a4-483b-87b4-e1efef211483",
   "metadata": {},
   "source": [
    "$$\n",
    "    E^{(i)} = \\frac{Q_R^{(i)} - \\alpha Q_G^{(i)}}{Q_R^{(i)} - \\alpha Q_G^{(i)} + Q_G^{(i)} \\gamma'}\n",
    "$$"
   ]
  },
  {
   "cell_type": "markdown",
   "id": "ce01ad3a-7f03-41d3-8acc-0e195680d454",
   "metadata": {},
   "source": [
    "where $\\gamma' = \\Phi_{F,A}^{(A,0)} g_R / (\\Phi_{F,D}^{(D,0)} g_G)$ and $\\alpha$ is the spectral cross-talk from the green to the red channel. Given the brightnesses $Q^{(i)}$, the pre-exponential factors are defined by:\n"
   ]
  },
  {
   "cell_type": "markdown",
   "id": "0cba59f5-b140-410d-a6fb-51e6baff7478",
   "metadata": {},
   "source": [
    "$$\n",
    "    AC_{G,G} = \\frac{(Q_G^{(1)} - Q_G^{(2)})^2}{(K Q_G^{(1)} + Q_G^{(2)})^2}\\cdot K \\\\\n",
    "    AC_{R,R} = \\frac{(Q_R^{(2)} - Q_R^{(1)})^2}{(K Q_R^{(2)} + Q_R^{(1)})^2}\\cdot K \\\\\n",
    "    CC_{G,G} = \\frac{(Q_G^{(1)} - Q_G^{(2)})}{(K Q_G^{(1)} + Q_G^{(2)})}\\cdot \\frac{(Q_R^{(2)} - Q_R^{(1)})}{(Q_R^{(2)} + K Q_R^{(1)})}K\n",
    "$$\n"
   ]
  },
  {
   "cell_type": "markdown",
   "id": "7c42ba1b-f09b-40f1-a47a-bd9e3769e3a1",
   "metadata": {},
   "source": [
    "The brightnesses can be neglected if each of the two species contributes only to one of the correlation channels.\n",
    "The contrast can be increased by lifetime filtered FCS (fFCS)."
   ]
  },
  {
   "cell_type": "markdown",
   "id": "e65a1b80-f85c-4aa3-8307-26325742bdaa",
   "metadata": {},
   "source": [
    "## Analysis\n",
    "As described previously there are several analogous possibilities to compute correlations. Two possibilities are shown in the example below. Analyzing such correlation functions informs on diffusion and fast kinetics. Such correlation functions can be analyzed by dedicated open tools for fluorescence such as [ChiSurf](https://github.com/fluorescence-tools/chisurf/), [PyCorrFit](https://github.com/FCS-analysis/PyCorrFit), and [PAM](https://github.com/fluorescence-tools/pam>) or generic curve analysis software."
   ]
  },
  {
   "cell_type": "code",
   "execution_count": null,
   "id": "2287cabc-0613-447c-85d6-683c528d0c94",
   "metadata": {},
   "outputs": [],
   "source": []
  }
 ],
 "metadata": {
  "kernelspec": {
   "display_name": "Python 3 (ipykernel)",
   "language": "python",
   "name": "python3"
  },
  "language_info": {
   "codemirror_mode": {
    "name": "ipython",
    "version": 3
   },
   "file_extension": ".py",
   "mimetype": "text/x-python",
   "name": "python",
   "nbconvert_exporter": "python",
   "pygments_lexer": "ipython3",
   "version": "3.10.6"
  }
 },
 "nbformat": 4,
 "nbformat_minor": 5
}
