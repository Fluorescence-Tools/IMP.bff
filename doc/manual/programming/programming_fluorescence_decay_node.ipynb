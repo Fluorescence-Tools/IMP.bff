{
 "cells": [
  {
   "cell_type": "markdown",
   "id": "739890ca",
   "metadata": {},
   "source": [
    "# Fluorescence decay node"
   ]
  },
  {
   "cell_type": "markdown",
   "id": "093ee929-97ba-4afd-9c1d-86aef0d0158b",
   "metadata": {},
   "source": [
    "Writing a factory that wraps  "
   ]
  },
  {
   "cell_type": "code",
   "execution_count": 22,
   "id": "0f4a36e8-8c02-48d3-9a8a-5d500e91920e",
   "metadata": {},
   "outputs": [],
   "source": [
    "import typing\n",
    "import pandas as pd\n",
    "import numpy as np\n",
    "\n",
    "import IMP\n",
    "import IMP.bff"
   ]
  },
  {
   "cell_type": "markdown",
   "id": "03c22c64-c747-4ff9-8949-52c21eac976f",
   "metadata": {},
   "source": []
  },
  {
   "cell_type": "code",
   "execution_count": 37,
   "id": "cb87534e-042a-40ad-9e18-7b9776b541cb",
   "metadata": {},
   "outputs": [],
   "source": [
    "def node_class_factory(\n",
    "    class_name: str,\n",
    "    parent: str,\n",
    "    parent_kwargs: dict,\n",
    "    input_attributes: typing.List[str],\n",
    "    output_attributes: typing.List[str]\n",
    "):\n",
    "    \"\"\"\n",
    "    Class factory for ChiNet node classes.\n",
    "    \n",
    "    Parameters\n",
    "    ----------\n",
    "    class_name : str\n",
    "        name of the produced class, e.g., `CnLifetime`\n",
    "    parent : str\n",
    "        class that is wrapped as ChiNet node, e.g., `IMP.bff.DecayLifetimeHandler`\n",
    "    parent_kwargs : dict\n",
    "        kwargs used to initialize the parent class\n",
    "    input_attributes : List[str]\n",
    "        list of str that refer to attributes of the parent class \n",
    "        these attributes are exposed as inputs\n",
    "    output_attributes : List[str]\n",
    "        list of str that refer to attributes of the parent class \n",
    "        these attributes are exposed as outputs\n",
    "    \n",
    "    Returns\n",
    "    -------\n",
    "    class\n",
    "        a child class of `IMP.bff.CnNode`\n",
    "\n",
    "    \"\"\"\n",
    "\n",
    "    class CB(IMP.bff.CnNodeCallback):\n",
    "\n",
    "        def __init__(self, *args, **kwargs):\n",
    "            super(CB, self).__init__(*args, **kwargs)\n",
    "\n",
    "        def run(self, inputs, outputs):\n",
    "            pass\n",
    "\n",
    "    def init(obj, *args, **kwargs):\n",
    "        super(obj.__class__, obj).__init__(*args, **kwargs)\n",
    "        cl_name = obj.parent.split(\".\")[-1]\n",
    "        cl = getattr(IMP.bff, cl_name)\n",
    "        obj.cls = cl(**obj.parent_kwargs)\n",
    "\n",
    "        obj.cb = CB()\n",
    "        obj.set_callback(obj.cb)\n",
    "        # Method for CB class\n",
    "        def _in2out(inputs, outputs):\n",
    "            for k in obj.input_attributes:\n",
    "                setattr(obj.cls, k, inputs[k].value)\n",
    "            for k in obj.output_attributes:\n",
    "                v = getattr(obj.cls, k)\n",
    "                outputs[k].value = v\n",
    "        obj.cb.run = _in2out\n",
    "\n",
    "        # Make Ports of CnNode\n",
    "        for k in obj.input_attributes:\n",
    "            v = obj.parent_kwargs[k]\n",
    "            p = IMP.bff.CnPort(v, is_output=False, name=k)\n",
    "            obj.add_input_port(p)\n",
    "        for k in obj.output_attributes:\n",
    "            v = obj.parent_kwargs[k]\n",
    "            p = IMP.bff.CnPort(v, is_output=True, name=k)\n",
    "            obj.add_output_port(p)\n",
    "        \n",
    "    attr_template = {\n",
    "        \"parent_kwargs\" : {},\n",
    "        \"input_attributes\": [],\n",
    "        \"output_attributes\": [],\n",
    "        \"parent\": \"IMP.bff.None\",\n",
    "        \"__init__\": init\n",
    "    }\n",
    "    \n",
    "    attr = {**attr_template, **cls_dict[class_name]}\n",
    "    return type(class_name, (IMP.bff.CnNode, ), attr)"
   ]
  },
  {
   "cell_type": "code",
   "execution_count": 43,
   "id": "cbcffd04-d473-4851-b048-99d9ee9c33d4",
   "metadata": {},
   "outputs": [],
   "source": [
    "cls_dict = {\n",
    "    \"CnLifetime\": {\n",
    "        \"parent_kwargs\" : {\n",
    "            'lifetime_spectrum': [0.012, 4.0, 2.2, 2.0],\n",
    "            'abs_lifetime_spectrum': True,\n",
    "            'use_amplitude_threshold': True,\n",
    "            'amplitude_threshold': 0.0\n",
    "        },\n",
    "        \"input_attributes\": [\n",
    "            \"amplitude_threshold\",\n",
    "            \"lifetime_spectrum\"\n",
    "        ],\n",
    "        \"output_attributes\": [\n",
    "            \"lifetime_spectrum\"\n",
    "        ],\n",
    "        \"parent\": \"IMP.bff.DecayLifetimeHandler\"\n",
    "    },\n",
    "    \"CnDecay\": {\n",
    "        \"parent_kwargs\" : {\n",
    "            'x': [], 'y': []\n",
    "        },\n",
    "        \"input_attributes\": [\"x\", \"y\"],\n",
    "        \"output_attributes\": [\"x\", \"y\"],\n",
    "        \"parent\": \"IMP.bff.DecayCurve\"\n",
    "    },\n",
    "    \"CnDecayConvolution\": {\n",
    "        \"parent_kwargs\" : {\n",
    "            'x': [], 'y': []\n",
    "        },\n",
    "        \"input_attributes\": [\"x\", \"y\"],\n",
    "        \"output_attributes\": [\"x\", \"y\"],\n",
    "        \"parent\": \"IMP.bff.DecayCurve\"\n",
    "    }    \n",
    "}"
   ]
  },
  {
   "cell_type": "code",
   "execution_count": 44,
   "id": "6ccb5010-954e-49f6-960a-f21a8561bdbd",
   "metadata": {},
   "outputs": [
    {
     "name": "stdout",
     "output_type": "stream",
     "text": [
      "{'CnLifetime': <class '__main__.CnLifetime'>, 'CnDecay': <class '__main__.CnDecay'>}\n"
     ]
    }
   ],
   "source": [
    "cls_ = dict()\n",
    "for class_name in cls_dict:\n",
    "    cls_[class_name] = node_class_factory(class_name, **cls_dict[class_name])\n",
    "print(cls_)\n",
    "locals().update(cls_)"
   ]
  },
  {
   "cell_type": "code",
   "execution_count": 45,
   "id": "5764ce21-1f66-4440-acba-610c2ead48f5",
   "metadata": {},
   "outputs": [],
   "source": [
    "n_lt1 = CnLifetime()\n",
    "n_decay = CnDecay()"
   ]
  },
  {
   "cell_type": "code",
   "execution_count": 46,
   "id": "313efba8-1c7b-45e6-b7e2-1f61c412725d",
   "metadata": {},
   "outputs": [],
   "source": [
    "dt = 0.0141 # time resolution (bin width of decay histogram)\n",
    "\n",
    "fns = {\n",
    "    \"lintable\": IMP.bff.get_example_path(\"spectroscopy/hgbp1/eTCSPC_whitelight.txt\"),\n",
    "    \"irf\": IMP.bff.get_example_path(\"spectroscopy/hgbp1/eTCSPC_Prompt.txt\"),\n",
    "    \"donor\": IMP.bff.get_example_path(\"spectroscopy/hgbp1/eTCSPC_Donor.txt\"),\n",
    "    \"fret\": IMP.bff.get_example_path(\"spectroscopy/hgbp1/eTCSPC_FRET.txt\")\n",
    "}\n",
    "\n",
    "data = dict()\n",
    "for key in fns:\n",
    "    df = pd.read_csv(fns[key], skiprows=6, sep='\\t')\n",
    "    data[key] = IMP.bff.DecayCurve(x=df['Chan'] * dt, y=df['Data'])"
   ]
  },
  {
   "cell_type": "code",
   "execution_count": 21,
   "id": "7c3d5d47-c13d-405a-a62a-2255e6b7feba",
   "metadata": {},
   "outputs": [
    {
     "data": {
      "text/plain": [
       "__main__.CnLifetime"
      ]
     },
     "execution_count": 21,
     "metadata": {},
     "output_type": "execute_result"
    }
   ],
   "source": [
    "\n"
   ]
  },
  {
   "cell_type": "code",
   "execution_count": 15,
   "id": "ce9dade2-b4eb-4b8b-80fe-c1681c00529b",
   "metadata": {},
   "outputs": [],
   "source": [
    "n_decay.inputs['y'].value = 10 * [0.0]"
   ]
  },
  {
   "cell_type": "code",
   "execution_count": 16,
   "id": "4d4b9e86-c3fe-49f0-a00a-93c4f7390e63",
   "metadata": {},
   "outputs": [],
   "source": [
    "n_decay.evaluate()"
   ]
  },
  {
   "cell_type": "code",
   "execution_count": 17,
   "id": "75641f73-db5a-477f-8fe3-999af436baa8",
   "metadata": {},
   "outputs": [
    {
     "data": {
      "text/plain": [
       "array([0., 1., 2., 3., 4., 5., 6., 7., 8., 9.])"
      ]
     },
     "execution_count": 17,
     "metadata": {},
     "output_type": "execute_result"
    }
   ],
   "source": [
    "n_decay.outputs['x'].value"
   ]
  },
  {
   "cell_type": "code",
   "execution_count": 18,
   "id": "546322f6-6b32-4ee5-91f8-3d978c6c1f6c",
   "metadata": {},
   "outputs": [],
   "source": [
    "n_lt1.evaluate()"
   ]
  },
  {
   "cell_type": "code",
   "execution_count": 19,
   "id": "abc17770-cc50-465e-ad4f-231fa020c319",
   "metadata": {},
   "outputs": [
    {
     "data": {
      "text/plain": [
       "array([0.012, 4.   , 2.2  , 2.   ])"
      ]
     },
     "execution_count": 19,
     "metadata": {},
     "output_type": "execute_result"
    }
   ],
   "source": [
    "n_lt1.outputs[\"lifetime_spectrum\"].value"
   ]
  },
  {
   "cell_type": "code",
   "execution_count": null,
   "id": "a2f638d0-12db-4a07-9e08-c6be2fb895d0",
   "metadata": {},
   "outputs": [],
   "source": []
  },
  {
   "cell_type": "code",
   "execution_count": 15,
   "id": "667d7cd2-1089-4b20-bcfc-33256abf3e2e",
   "metadata": {},
   "outputs": [],
   "source": [
    "settings = {\n",
    "    \"background_settings\": {\n",
    "        \"start\": 0, \"stop\": -1,\n",
    "        \"constant_offset\": 2.,\n",
    "        \"pattern\": None,\n",
    "        \"pattern_fraction\": 0.0,\n",
    "        \"active\": True\n",
    "    },\n",
    "    \"pile_up_settings\": {\n",
    "        \"active\": False\n",
    "    },\n",
    "    \"convolution_settings\": {\n",
    "        \"start\": 100, \"stop\": 3800,\n",
    "        \"instrument_response_function\": data[\"irf\"],\n",
    "        \"convolution_method\": IMP.bff.DecayConvolution.FAST,\n",
    "        \"excitation_period\": 100,\n",
    "        \"irf_shift_channels\": 0.0,\n",
    "        \"irf_background_counts\": 0.0,\n",
    "    },\n",
    "    \"scale_settings\": {\n",
    "        \"start\": 0, \"stop\": -1,\n",
    "        \"constant_background\": 0.0,\n",
    "        \"active\": True,\n",
    "        \"blank_outside\": True\n",
    "    },\n",
    "    \"score_settings\": {\n",
    "        \"score_type\": \"poisson\",\n",
    "        \"start\": 0, \"stop\": -1    \n",
    "    }\n",
    "}"
   ]
  }
 ],
 "metadata": {
  "kernelspec": {
   "display_name": "Python 3 (ipykernel)",
   "language": "python",
   "name": "python3"
  },
  "language_info": {
   "codemirror_mode": {
    "name": "ipython",
    "version": 3
   },
   "file_extension": ".py",
   "mimetype": "text/x-python",
   "name": "python",
   "nbconvert_exporter": "python",
   "pygments_lexer": "ipython3",
   "version": "3.10.6"
  }
 },
 "nbformat": 4,
 "nbformat_minor": 5
}
