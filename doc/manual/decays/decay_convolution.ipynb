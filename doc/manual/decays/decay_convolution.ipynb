{
 "cells": [
  {
   "cell_type": "markdown",
   "id": "3d009e4d-b932-4872-8a55-08a92cb4db39",
   "metadata": {},
   "source": [
    "# Fluorescence decay convolutions"
   ]
  },
  {
   "cell_type": "code",
   "execution_count": null,
   "id": "d034d96c-d708-4fcf-9195-92a6285bb473",
   "metadata": {},
   "outputs": [],
   "source": []
  }
 ],
 "metadata": {
  "kernelspec": {
   "display_name": "Python 3 (ipykernel)",
   "language": "python",
   "name": "python3"
  },
  "language_info": {
   "codemirror_mode": {
    "name": "ipython",
    "version": 3
   },
   "file_extension": ".py",
   "mimetype": "text/x-python",
   "name": "python",
   "nbconvert_exporter": "python",
   "pygments_lexer": "ipython3",
   "version": "3.10.6"
  }
 },
 "nbformat": 4,
 "nbformat_minor": 5
}
