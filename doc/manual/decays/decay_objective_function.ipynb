{
 "cells": [
  {
   "cell_type": "markdown",
   "id": "8f1c1750-310b-457b-80fb-a101a9738a88",
   "metadata": {},
   "source": [
    "# Fluorescence decay objective function"
   ]
  },
  {
   "cell_type": "markdown",
   "id": "4004b22b-0e71-48e6-8f39-a807416e2c0e",
   "metadata": {},
   "source": [
    "The first step for determining a set optimal of model parameters for a data set is to define an objective function. An objective function attempts to maximize profits or minimize losses based on the data and the parameter of the model. Here, it is illustrated how different parts of `IMP.bff` can be combined to yield (i) a forward model and an (ii) objective function for the data and the model. The computation of a forward model that considers multiple experimental nuisances is described [elsewhere](decay_forward_model.ipynb). Here, an objective function is defined that can be used as a template for modeling."
   ]
  },
  {
   "cell_type": "markdown",
   "id": "061234ae-4a40-4f19-b4ff-b8119c644444",
   "metadata": {},
   "source": [
    "First, the Python modules and the data are loaded."
   ]
  },
  {
   "cell_type": "code",
   "execution_count": 1,
   "id": "f859482f-219a-4722-8f35-fd9201783083",
   "metadata": {},
   "outputs": [],
   "source": [
    "import IMP\n",
    "import IMP.bff\n",
    "\n",
    "import numpy as np\n",
    "import pandas as pd\n",
    "import matplotlib.pylab as plt"
   ]
  },
  {
   "cell_type": "code",
   "execution_count": 2,
   "id": "a70b79ca-4a8a-430a-9315-b88e42546b0e",
   "metadata": {},
   "outputs": [],
   "source": [
    "dt = 0.0141 # time resolution (bin width of decay histogram)\n",
    "\n",
    "fns = {\n",
    "    \"lintable\": IMP.bff.get_example_path(\"spectroscopy/hgbp1/eTCSPC_whitelight.txt\"),\n",
    "    \"irf\": IMP.bff.get_example_path(\"spectroscopy/hgbp1/eTCSPC_Prompt.txt\"),\n",
    "    \"donor\": IMP.bff.get_example_path(\"spectroscopy/hgbp1/eTCSPC_Donor.txt\"),\n",
    "    \"fret\": IMP.bff.get_example_path(\"spectroscopy/hgbp1/eTCSPC_FRET.txt\")\n",
    "}\n",
    "\n",
    "data = dict()\n",
    "for key in fns:\n",
    "    df = pd.read_csv(fns[key], skiprows=6, sep='\\t')\n",
    "    data[key] = IMP.bff.DecayCurve(x=df['Chan'] * dt, y=df['Data'])"
   ]
  },
  {
   "cell_type": "markdown",
   "id": "91d6554e-23b5-47a4-8ec8-9aa835ff840a",
   "metadata": {},
   "source": [
    "Here, we define an generic mode for the human guanalylate binding protein 1 (hGBP1) that describes the experimental data by a set of fluorescence lifetimes. The model considers the instrument response function (IRF), differential non linearities (DNL), and non-fluorescent background. "
   ]
  },
  {
   "cell_type": "code",
   "execution_count": 3,
   "id": "17b2c145-e355-4296-a23f-0aaa8ab1a393",
   "metadata": {},
   "outputs": [],
   "source": [
    "class objective(object):\n",
    "    \n",
    "    def __init__(\n",
    "        self, \n",
    "        data: IMP.bff.DecayCurve,\n",
    "        irf: IMP.bff.DecayCurve,\n",
    "        linearization_table: IMP.bff.DecayCurve,\n",
    "        lifetime_settings: dict,\n",
    "        convolution_settings: dict,\n",
    "        pile_up_settings: dict,\n",
    "        background_settings: dict,\n",
    "        dnl_settings: dict,\n",
    "        scale_settings: dict,\n",
    "        score_settings: dict\n",
    "    ):\n",
    "        self.data = data\n",
    "        self.model = IMP.bff.DecayCurve(x=data.x)\n",
    "        self.lifetime_handler = IMP.bff.DecayLifetimeHandler(**lifetime_settings)\n",
    "        self.convolve = IMP.bff.DecayConvolution(\n",
    "            lifetime_handler=self.lifetime_handler,\n",
    "            **convolution_settings\n",
    "        )\n",
    "        self.pile_up = IMP.bff.DecayPileup(data, **pile_up_settings)\n",
    "        self.bg = IMP.bff.DecayPattern(**background_settings)\n",
    "        self.dnl = IMP.bff.DecayLinearization(linearization_table, **dnl_settings)\n",
    "        self.scale = IMP.bff.DecayScale(data, **scale_settings)\n",
    "        self.score = IMP.bff.DecayScore(self.model, data, **score_settings)\n",
    "\n",
    "    def __call__(self, *args, **kwargs):\n",
    "        self.convolve.add(self.model)\n",
    "        self.pile_up.add(self.model)\n",
    "        self.bg.add(self.model)\n",
    "        self.dnl.add(self.model)\n",
    "        self.scale.add(self.model)\n",
    "        self.score.set_model(self.model)\n",
    "        return self.score.score\n"
   ]
  },
  {
   "cell_type": "markdown",
   "id": "e00c0d8f-9a06-41a6-b264-a1548fc7243d",
   "metadata": {},
   "source": [
    "Here, the parameters of the model (that are not optimized) are part of a dictionary that is passed to the objective function. "
   ]
  },
  {
   "cell_type": "code",
   "execution_count": 4,
   "id": "69767b55-502f-4ea3-bee7-aaad28d24ee1",
   "metadata": {},
   "outputs": [],
   "source": [
    "settings = {\n",
    "    \"dnl_settings\": {\n",
    "        \"start\": 0, \"stop\": -1,\n",
    "        \"n_window\": 20\n",
    "    },\n",
    "    \"background_settings\": {\n",
    "        \"start\": 0, \"stop\": -1,\n",
    "        \"constant_offset\": 2.,\n",
    "        \"pattern\": None,\n",
    "        \"pattern_fraction\": 0.0,\n",
    "        \"active\": True\n",
    "    },\n",
    "    \"pile_up_settings\": {\n",
    "        \"active\": False\n",
    "    },\n",
    "    \"convolution_settings\": {\n",
    "        \"start\": 100, \"stop\": 3800,\n",
    "        \"instrument_response_function\": data[\"irf\"],\n",
    "        \"convolution_method\": IMP.bff.DecayConvolution.FAST,\n",
    "        \"excitation_period\": 100,\n",
    "        \"irf_shift_channels\": 0.0,\n",
    "        \"irf_background_counts\": 0.0,\n",
    "    },\n",
    "    \"lifetime_settings\": {\n",
    "        'lifetime_spectrum': [0.8, 4.0, 0.2, 2.0],\n",
    "        'abs_lifetime_spectrum': False,   # True -> take abs of liftime spectrum\n",
    "        'use_amplitude_threshold': False, # True -> discriminate lifetimes below threshold\n",
    "        'amplitude_threshold': 0.0\n",
    "    },\n",
    "    \"scale_settings\": {\n",
    "        \"start\": 0, \"stop\": -1,\n",
    "        \"constant_background\": 0.0,\n",
    "        \"active\": True,\n",
    "        \"blank_outside\": True\n",
    "    },\n",
    "    \"score_settings\": {\n",
    "        \"score_type\": \"poisson\",\n",
    "        \"start\": 0, \"stop\": -1    \n",
    "    }\n",
    "}"
   ]
  },
  {
   "cell_type": "markdown",
   "id": "812fbe3a-1c83-4cb2-887a-296260feec7b",
   "metadata": {},
   "source": [
    "The objective function computes a model and returns a score. The score can be used to optimize parameters."
   ]
  },
  {
   "cell_type": "code",
   "execution_count": 5,
   "id": "2cd771b1-82fd-4bff-8913-80846c13e13b",
   "metadata": {},
   "outputs": [
    {
     "data": {
      "text/plain": [
       "232978.91261433408"
      ]
     },
     "execution_count": 5,
     "metadata": {},
     "output_type": "execute_result"
    }
   ],
   "source": [
    "ob = objective(\n",
    "    data[\"donor\"],\n",
    "    data[\"irf\"],\n",
    "    data[\"lintable\"],\n",
    "    **settings\n",
    ")\n",
    "ob()"
   ]
  },
  {
   "cell_type": "code",
   "execution_count": 7,
   "id": "ddc40943-94c7-483e-8264-5ae2167290e5",
   "metadata": {},
   "outputs": [
    {
     "data": {
      "image/png": "[encoded data removed]",
      "text/plain": [
       "<Figure size 640x480 with 1 Axes>"
      ]
     },
     "metadata": {},
     "output_type": "display_data"
    }
   ],
   "source": [
    "plt.semilogy(ob.convolve.irf.x, ob.convolve.irf.y)\n",
    "plt.semilogy(ob.data.x, ob.data.y)\n",
    "plt.semilogy(ob.model.x, ob.model.y)\n",
    "plt.show()"
   ]
  },
  {
   "cell_type": "code",
   "execution_count": null,
   "id": "cd2a62d5-f0a8-4a33-9a12-669fe8085136",
   "metadata": {},
   "outputs": [],
   "source": []
  }
 ],
 "metadata": {
  "kernelspec": {
   "display_name": "Python 3 (ipykernel)",
   "language": "python",
   "name": "python3"
  },
  "language_info": {
   "codemirror_mode": {
    "name": "ipython",
    "version": 3
   },
   "file_extension": ".py",
   "mimetype": "text/x-python",
   "name": "python",
   "nbconvert_exporter": "python",
   "pygments_lexer": "ipython3",
   "version": "3.10.6"
  }
 },
 "nbformat": 4,
 "nbformat_minor": 5
}
