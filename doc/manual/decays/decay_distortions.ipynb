{
 "cells": [
  {
   "cell_type": "markdown",
   "id": "fbebb2ee-cd32-43b1-972e-ac53fdb2a8ee",
   "metadata": {},
   "source": [
    "# Fluorescence decay distortions"
   ]
  },
  {
   "cell_type": "markdown",
   "id": "0c678201-cc8d-43e0-9717-4051ced8c3b9",
   "metadata": {},
   "source": [
    "## Pile up"
   ]
  },
  {
   "cell_type": "code",
   "execution_count": null,
   "id": "7df82822-5c59-4ff3-b1f2-12872c4ca6a6",
   "metadata": {},
   "outputs": [],
   "source": []
  }
 ],
 "metadata": {
  "kernelspec": {
   "display_name": "Python 3 (ipykernel)",
   "language": "python",
   "name": "python3"
  },
  "language_info": {
   "codemirror_mode": {
    "name": "ipython",
    "version": 3
   },
   "file_extension": ".py",
   "mimetype": "text/x-python",
   "name": "python",
   "nbconvert_exporter": "python",
   "pygments_lexer": "ipython3",
   "version": "3.10.6"
  }
 },
 "nbformat": 4,
 "nbformat_minor": 5
}
