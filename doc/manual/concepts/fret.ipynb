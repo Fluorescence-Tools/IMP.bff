{
 "cells": [
  {
   "cell_type": "markdown",
   "id": "a5ca4f5c-f2e0-41a9-80f3-75171798d69a",
   "metadata": {},
   "source": [
    "# Förster resonance energy transfer"
   ]
  },
  {
   "cell_type": "markdown",
   "id": "ad647130-b102-4f30-affd-69aff8aa10e2",
   "metadata": {},
   "source": [
    "## Fluorescence intensity analysis"
   ]
  },
  {
   "cell_type": "markdown",
   "id": "fa1b42e7-9c21-406e-948f-0c10e52c3a69",
   "metadata": {},
   "source": [
    "Intensity-based approaches are the most intuitive and easiest way to measure [FRET](../../glossary.ipynb#FRET).\n",
    "Intensity based approaches record signal intensities. The most common intensity-based FRET measurement approached record the signal intensity in detection channels for the donor and acceptor fluorophore. Here, the donor is a \"green\" fluorophore that is\n",
    "detected by \"green\" detection channels. The acceptor is a \"red\" fluorophore that is detected by \"red\" detection channels. The donor is excited by a \"green\" light source. The acceptor can be excited by a \"red\" light source."
   ]
  },
  {
   "cell_type": "markdown",
   "id": "b8001389-9d46-49b1-8d77-3305e0558456",
   "metadata": {},
   "source": [
    "A measure of FRET that is commonly used is the [FRET efficiency](../../glossary.ipynb#FRET-efficiency), $E$.\n",
    "Computing a FRET efficiency requires corrected signals. As an indicator for FRET one can calculate the proximity ratio $PR$ according using the uncorrected signal detected by the green, $S_G$, and red, $S_R$, detection channels, respectively."
   ]
  },
  {
   "cell_type": "markdown",
   "id": "64bf972b-f515-4cb5-836c-163446b081f6",
   "metadata": {},
   "source": [
    "\n",
    "$$\n",
    "   PR = S_R / (S_R + S_G)\n",
    "$$\n"
   ]
  },
  {
   "cell_type": "markdown",
   "id": "65472ed9-e1ff-4494-9074-be2d4a0e8d6e",
   "metadata": {},
   "source": [
    "For ideal fluorophores and detection systems $PR$ equals to the FRET efficiency, $E$. To obtain a FRET efficiency for non ideal detection systems and fluorophores the fluorescence intensities need to be corrected for the fluorescence quantum yield of the donor and acceptor."
   ]
  },
  {
   "cell_type": "markdown",
   "id": "15e4420d-a654-41b8-8edc-5331c11d8030",
   "metadata": {},
   "source": [
    "$$\n",
    "   E = \\left( 1+\\gamma` \\frac{F_{D|D}^{(D,0)}}{F_{A|D}^{(D,A)}} \\right )^{-1}\n",
    "$$\n"
   ]
  },
  {
   "cell_type": "markdown",
   "id": "2bada640-0f30-44c3-8909-03618d1ec212",
   "metadata": {},
   "source": [
    "where, $\\gamma'=\\Phi_{F,A}^{(A,0)}/\\Phi_{F,D}^{(D,0)}$ is the ratio of the acceptor to donor fluorescence quantum yield, $F_{D|D}^{(D,A)}$ is the fluorescence intensity of the donor $D|...$ in a FRET sample $(D,A)$ given the donor excitation $...|D$, and $F_{A|D}^{(D,A)}$ is the fluorescence intensity of the acceptor $A|...$ in a FRET sample $(D,A)$ given the donor excitation $...|D$."
   ]
  },
  {
   "cell_type": "markdown",
   "id": "17393595-3cd7-4222-9c86-29ca884c733f",
   "metadata": {},
   "source": [
    "$F_{D|D}^{(D,A)}$ and $F_{A|D}^{(D,A)}$, depend on the detection efficiencies of green ($g_G$) and red ($g_R$) channels and corresponding background signals, among other correction factors. For the common case where there is negligible crosstalk from the acceptor to the donor detection channel"
   ]
  },
  {
   "cell_type": "markdown",
   "id": "7082937c-9c03-410c-9a8a-0656703f8b00",
   "metadata": {},
   "source": [
    "\n",
    "$$\n",
    "    F_D = \\frac{S_G - \\langle B_G \\rangle}{g_G}\n",
    "    F_{A}=\\frac{S_{R}-\\alpha F_{G}-\\langle B_{R} \\rangle}{g_{R}}\n",
    "$$\n"
   ]
  },
  {
   "cell_type": "markdown",
   "id": "cbd5c84a-dfb7-44c2-9db4-4918e96afc6f",
   "metadata": {},
   "source": [
    "where $\\langle B_G \\rangle$ and $\\langle B_R \\rangle$ are the background signals in green and red channels, $\\alpha$ is the spectral cross-talk from the donor fluorescence to the acceptor channel. Note that detection efficiencies are difficult to measure <cite data-cite=\"fries1998quantitative,sabanayagam2005using\"></cite>, but the ratio of detection efficiencies can be calibrated with a known sample (see section 2.5.1).  Equation (5) is not corrected for direct excitation of the acceptor, therefore care has to be taken to choose the appropriate donor excitation wavelength. The latter is taken into account in an alternative intensity-based approach developed by <cite data-cite=\"clegg199218\"></cite>. Here, the acceptor intensity ratio from signal after direct and FRET mediated excitation is calculated yielding transfer efficiencies being less prone to experimental artifacts. As in all ensemble FRET experiments, a knowledge of the degree of labeling is mandatory for a quantitative analysis."
   ]
  },
  {
   "cell_type": "code",
   "execution_count": null,
   "id": "352511d3-b9a6-4355-a022-10c291343cc4",
   "metadata": {},
   "outputs": [],
   "source": []
  }
 ],
 "metadata": {
  "kernelspec": {
   "display_name": "Python 3 (ipykernel)",
   "language": "python",
   "name": "python3"
  },
  "language_info": {
   "codemirror_mode": {
    "name": "ipython",
    "version": 3
   },
   "file_extension": ".py",
   "mimetype": "text/x-python",
   "name": "python",
   "nbconvert_exporter": "python",
   "pygments_lexer": "ipython3",
   "version": "3.10.6"
  }
 },
 "nbformat": 4,
 "nbformat_minor": 5
}
