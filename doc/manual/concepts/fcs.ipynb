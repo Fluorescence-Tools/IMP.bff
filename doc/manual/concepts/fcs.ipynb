{
 "cells": [
  {
   "cell_type": "markdown",
   "id": "33aae721-f831-4389-a839-18e387123ac6",
   "metadata": {},
   "source": [
    "# Fluorescence correlation spectroscopy"
   ]
  },
  {
   "cell_type": "markdown",
   "id": "e6c08c77-d4d7-465a-8596-7b3ebe64d193",
   "metadata": {},
   "source": [
    "The most common method to study fluctuations in the time evolution of any signal is to compute the correlation function of such. In this respect, fluorescence correlation spectroscopy (FCS) <cite data-cite=\"elson201340,Elson1974,magde1972\"></cite>.\n",
    "\n",
    "In combination with FRET (FRET-FCS) was developed as a powerful tool \n",
    "<cite data-cite=\"slaughter2004single,torres2007measuring\"></cite> that allows for the analysis of FRET fluctuations covering a time range of nanoseconds to seconds. Hence, it is a perfect method to study conformational dynamics of biomolecules, complex formation, folding and catalysis <cite data-cite=\"johnson2006calmodulin,price2011fret,price2010detecting,slaughter2004single,slaughter2005single,slaughter2005conformational,gurunathan2010fret,levitus2010relaxation,al2005fluorescence,torres2007measuring\"></cite>"
   ]
  },
  {
   "cell_type": "markdown",
   "id": "9ea6e7b2-a147-408c-845a-7fa05fa83d21",
   "metadata": {},
   "source": [
    "Confocal fluorescence correlation spectroscopy (FCS) is a powerful method to analyze molecular dynamics. FCS has single molecule sensitivity, is highly selective, and live-cell compatible. FCS has a broad measurable time range spanning from ~ns to ∼s. Moreover, FCS provides spatial selectivity so that e. g. in live cells membrane, cytoplasmic and nucleus molecular dynamics can be easily distinguished.\n",
    "\n",
    "The main underlying principle in correlation spectroscopy is the statistical analysis of intensity fluctuations emitted by fluorescently labeled biomolecules by correlation analysis. The resulting auto- (FCS) or cross-correlation functions (FCCS) then can be further analyzed by curve fitting to eventually derive the rate constants of interest. In other words: The statistical methods FCS and  FCCS do not provide single molecule traces like in single particle tracking, but a dynamic  pattern or “fingerprint” of a probed specimen with high temporal resolution.\n",
    "\n",
    "Structural fluctuations are reflected by the correlation function, which in turn provides restraints on the number of conformational states. In this section we briefly describe the simplest case of FRET-FCS and discuss various\n",
    "experimental scenarios. A detailed review was recently published covering all advantages and challenges of these\n",
    "methods <cite data-cite='felekyan2013analyzing'></cite>.\n",
    "\n",
    "The auto/cross-correlation of two correlation channels $S_A$ and $S_B$ is given by:\n"
   ]
  },
  {
   "cell_type": "markdown",
   "id": "073e3b64-501d-4cab-89ec-7f0e25673ef2",
   "metadata": {},
   "source": [
    "$$   G_{A,B} (t_{c}) = 1 + \\frac{\\langle \\delta S_A(t) \\delta S_B (t+t_c) \\rangle}{\\langle S_A(t) \\rangle \\langle S_B(t) \\rangle}\n",
    "$$"
   ]
  },
  {
   "cell_type": "markdown",
   "id": "c6fde355-e3b9-413a-aad6-6f3276537954",
   "metadata": {},
   "source": [
    "If $S_A$ equals $S_B$ the correlation function is called autocorrelation function otherwise it is called\n",
    "cross-correlation function. If all species are of equal brightness, the amplitude at zero time of the autocorrelation\n",
    "function, $G(0)$, allows to determine the mean number of molecules $N$ in the detection volume,\n",
    "$V_{det}$, or the concentration, $c$, if the parameters of detection volume are known.\n"
   ]
  },
  {
   "cell_type": "markdown",
   "id": "80617618-fdf1-4074-9eb1-3c3e24b219ac",
   "metadata": {},
   "source": [
    "$$G(t_c=0) = 1 + \\frac{1}{N} \\cdot G_{diff}(t_c)$$"
   ]
  },
  {
   "cell_type": "markdown",
   "id": "91a200c5-0932-4f1e-9973-c3dee097763d",
   "metadata": {},
   "source": [
    "with $c = N / V_{det}$. For a 3-dimensional Gaussian shaped detection/illumination volume the normalized\n",
    "diffusion term is given by"
   ]
  },
  {
   "cell_type": "markdown",
   "id": "1cbabd6b-46b4-4399-b76b-ce48cf8360dc",
   "metadata": {},
   "source": [
    "$$    G_{diff}(t_c) = \\left( 1 + \\frac{t_c}{t_{diff}} \\right )^{-1} \\left( 1 + \\left( \\frac{\\omega_0}{z_0} \\right)^2 \\frac{t_c}{t_{diff}} \\right)^{-1/2}$$"
   ]
  },
  {
   "cell_type": "markdown",
   "id": "49a1630d-e1bd-4345-8f2f-1954ca7c659f",
   "metadata": {},
   "source": [
    "whereas $\\omega_0$ and $z_0$ are shape parameters of the detection volume that is defined by\n",
    "$w(x,y,z)=\\exp (-2 (x^2 + y^2) / \\omega_0^2) \\exp (-2 z^2/z_0^2)$. For 1-photon excitation the characteristic\n",
    "diffusion time related to the diffusion coefficient $D_{diff}^{(i)}$ is given by\n",
    "$t_{diff}^{(i)} = \\omega_0^2 / (4 D_{diff}^{(i)})$. The autocorrelation function allows for a direct assessment of\n",
    "the diffusion constant $D_{diff}$."
   ]
  },
  {
   "cell_type": "markdown",
   "id": "cab74c35-1ad1-4f28-8a0f-779dccda23ec",
   "metadata": {},
   "source": [
    "In a mixture of $n$ species with corresponding brightnesses, $Q^{(i)}$, diffusion constants,\n",
    "$D_{diff}^{(i)}$, and fractions, $x^{(i)}$, $i = 1, \\dots, n$ it is most convenient to define the\n",
    "autocorrelation function <cite data-cite=\"kim2005two\"></cite>.\n"
   ]
  },
  {
   "cell_type": "markdown",
   "id": "2c7406eb-a866-49a9-a2e6-8c44dcc5ac22",
   "metadata": {},
   "source": [
    "   $$ G(t_c) = 1 + \\frac{1}{N} \\frac{\\sum_i^nx^{(i)} (Q^{(i)})^2 G_{diff}^{(i)}(t_c)}{\\left( \\sum_i^n x^{(i)} Q^{(i)} \\right)^2}$$"
   ]
  },
  {
   "cell_type": "markdown",
   "id": "8e0c2f36-d13d-4a26-bc80-7eabb2cb0190",
   "metadata": {},
   "source": [
    "Even if the brightness, $Q^{(i)}$, is known for each species, the diffusion coefficients, $D_{diff}^{(i)}$,\n",
    "still have to be significantly distinct for successful extraction of $c^{(i)}$ values, emphasizing the need of a\n",
    "proper methodology that can distinguish species in a mixture.\n"
   ]
  }
 ],
 "metadata": {
  "kernelspec": {
   "display_name": "Python 3 (ipykernel)",
   "language": "python",
   "name": "python3"
  },
  "language_info": {
   "codemirror_mode": {
    "name": "ipython",
    "version": 3
   },
   "file_extension": ".py",
   "mimetype": "text/x-python",
   "name": "python",
   "nbconvert_exporter": "python",
   "pygments_lexer": "ipython3",
   "version": "3.10.6"
  }
 },
 "nbformat": 4,
 "nbformat_minor": 5
}
