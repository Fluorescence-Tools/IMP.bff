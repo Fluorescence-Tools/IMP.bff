{
 "cells": [
  {
   "cell_type": "markdown",
   "id": "2a542c71-943d-4a78-b418-3f0323e3c8b7",
   "metadata": {},
   "source": [
    "# Fluorescence decays"
   ]
  },
  {
   "cell_type": "markdown",
   "id": "001086c4-010c-460a-8f98-4a61caf39097",
   "metadata": {},
   "source": []
  },
  {
   "cell_type": "markdown",
   "id": "8a1a977d-0edc-4648-9042-d0d541482e8c",
   "metadata": {},
   "source": [
    "## Phasor\n",
    "Changing the data representation from the classical time delay histogram to the phasor representation provides a global view of the fluorescence decay at each pixel of an image. In the phasor representation reveal the presence of different in a a fluorescence decay. The analysis of time-resolve fluorescence data in the phasor space is done by observing clustering of populations in the phasor plot rather than by fitting the fluorescence decay using exponentials. The analysis is instantaneous since is not based on calculations or nonlinear fitting. Thus, the phasor approach can simplify the way data are analyzed and makes FLIM technique accessible to the nonexpert in spectroscopy and data analysis <cite data-cite=\"DIGMAN2008L14\"></cite>.\n",
    "\n",
    "The phasor transformation can use data collected in either the time or the frequency domain. In the time-correlated single-photon counting (TCSPC) technique, the histogram of the photon arrival time at each pixel of the image is transformed to Fourier space, and the phasor coordinates are calculated using the following relations:"
   ]
  },
  {
   "cell_type": "markdown",
   "id": "3c94e260-ad10-4ce7-93c2-767a41a6d8bf",
   "metadata": {},
   "source": [
    "$$\n",
    "g_{i,j}(\\omega) = \\int_{0}^{T} I(t) \\cdot \\cos(n\\omega t) dt / \\int_{0}^{T} I(t) dt \\\\\n",
    "s_{i,j}(\\omega) = \\int_{0}^{T} I(t) \\cdot \\sin(n\\omega t) dt / \\int_{0}^{T} I(t) dt\n",
    "$$"
   ]
  },
  {
   "cell_type": "markdown",
   "id": "4722807e-c45d-4db1-b354-368c1c299bdb",
   "metadata": {},
   "source": [
    "in which $g_i$, $j(\\omega)$ and $s_i$, $j(\\omega)$ are the x and y coordinates of the phasor plot, $n$ and $\\omega$ are the harmonic frequency and the angular frequency of excitation, respectively, and $T$ is the repeat frequency of the acquisition <cite data-cite=\"ranjit2018fit\"> </cite>."
   ]
  },
  {
   "cell_type": "markdown",
   "id": "18c6a1d1-82d3-4a4a-bb4e-55551b96960d",
   "metadata": {},
   "source": [
    "## Fluorescence lifetime analysis"
   ]
  },
  {
   "cell_type": "code",
   "execution_count": null,
   "id": "36ebd2ea-1ace-4f7a-a8ba-07fe78f88b6b",
   "metadata": {},
   "outputs": [],
   "source": []
  }
 ],
 "metadata": {
  "kernelspec": {
   "display_name": "Python 3 (ipykernel)",
   "language": "python",
   "name": "python3"
  },
  "language_info": {
   "codemirror_mode": {
    "name": "ipython",
    "version": 3
   },
   "file_extension": ".py",
   "mimetype": "text/x-python",
   "name": "python",
   "nbconvert_exporter": "python",
   "pygments_lexer": "ipython3",
   "version": "3.10.6"
  }
 },
 "nbformat": 4,
 "nbformat_minor": 5
}
