{
 "cells": [
  {
   "cell_type": "markdown",
   "id": "1827ee20-a1a7-48a3-9666-b43207cb591a",
   "metadata": {},
   "source": [
    "# TTTR objects"
   ]
  },
  {
   "cell_type": "markdown",
   "id": "a775073f-b6d8-4e56-963a-80aefc7ddcae",
   "metadata": {},
   "source": [
    "## Introduction\n",
    "The library tttrlib facilitates the work with files containing time-tagged time resolved data by providing a vendor independent C++ application programming interface (API) for TTTR files that is wrapped by [SWIG](http://swig.org/) (Simplified Wrapper and Interface Generator) for common scripting languages as Python as target languages and non-scripting languages such as C# and Java including Octave, Scilab and R. This way, the information provided by the TTTR files can be conveniently accessed without the need of converting the files to alternative vendor independent exchange file formats as [Photon-HDF](http://photon-hdf5.github.io/). Common in all TTTR file formats is that the time information is stored as a stream of events. Every event contains information on the\n",
    "\n",
    "1. Number of clock cycles\n",
    "2. Micro time\n",
    "3. Channel number\n",
    "4. Event type\n",
    "\n",
    "The number of clock cycles since last detection event can be used to compute the macro time. The macro time is the time since the start of the experiment. In TCSPC experiments the macro time is typically the number of excitation sync pulses of the laser exciting the sample. In continuous wave FCS experiments the macro time is often the number of clock cycles of an external clock. In time-correlated single photon counting (TCSPC) experiments, the micro time is usually the time when a photon was detected since the last excitation laser pulse (macro time). The channel number encodes the detector that detected the event (the photon). The event type is a special identifier that informs whether the registered event is a photon or an other event (like a line marker in confocal laser scanning microscopy). To save storage space and band-width most TTTR formats do not provide the macro time directly. Typically, instead of directly providing the macro time, the number of events since the last detected event are counted."
   ]
  },
  {
   "cell_type": "markdown",
   "id": "90b29fc1-55d1-4ff1-8ea4-235ce63c461c",
   "metadata": {},
   "source": [
    "## Create TTTR objects\n",
    "\n",
    "Empty objects\n",
    "    TTTR();\n",
    "\n",
    "```python\n",
    "import tttrlib\n",
    "tttr = tttrlib.TTTR()\n",
    "```\n",
    "\n",
    "Attributes are read only events added to TTTR objects via\n",
    "Append data\n",
    "\n",
    "```python\n",
    "data2 = tttrlib.TTTR(\n",
    "    macro_times,\n",
    "    micro_times,\n",
    "    routing_channels,\n",
    "    event_types\n",
    ")\n",
    "```\n",
    "\n",
    "```python\n",
    "data2 = tttrlib.TTTR(\n",
    "    macro_times,\n",
    "    micro_times,\n",
    "    routing_channels,\n",
    "    event_types\n",
    ")\n",
    "````\n",
    "\n"
   ]
  },
  {
   "cell_type": "code",
   "execution_count": null,
   "id": "cdf76fe5-b603-455a-9dd6-48ca857ad028",
   "metadata": {},
   "outputs": [],
   "source": []
  }
 ],
 "metadata": {
  "kernelspec": {
   "display_name": "Python 3 (ipykernel)",
   "language": "python",
   "name": "python3"
  },
  "language_info": {
   "codemirror_mode": {
    "name": "ipython",
    "version": 3
   },
   "file_extension": ".py",
   "mimetype": "text/x-python",
   "name": "python",
   "nbconvert_exporter": "python",
   "pygments_lexer": "ipython3",
   "version": "3.10.6"
  }
 },
 "nbformat": 4,
 "nbformat_minor": 5
}
