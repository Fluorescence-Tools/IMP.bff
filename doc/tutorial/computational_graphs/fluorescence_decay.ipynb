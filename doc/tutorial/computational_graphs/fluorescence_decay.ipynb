{
 "cells": [
  {
   "cell_type": "markdown",
   "id": "739890ca",
   "metadata": {},
   "source": [
    "# Fluorescence decay"
   ]
  },
  {
   "cell_type": "code",
   "execution_count": 1,
   "id": "0f4a36e8-8c02-48d3-9a8a-5d500e91920e",
   "metadata": {},
   "outputs": [],
   "source": [
    "import pandas as pd\n",
    "import numpy as np\n",
    "\n",
    "import IMP\n",
    "import IMP.bff"
   ]
  },
  {
   "cell_type": "code",
   "execution_count": 2,
   "id": "313efba8-1c7b-45e6-b7e2-1f61c412725d",
   "metadata": {},
   "outputs": [],
   "source": [
    "dt = 0.0141 # time resolution (bin width of decay histogram)\n",
    "\n",
    "fns = {\n",
    "    \"lintable\": IMP.bff.get_example_path(\"spectroscopy/hgbp1/eTCSPC_whitelight.txt\"),\n",
    "    \"irf\": IMP.bff.get_example_path(\"spectroscopy/hgbp1/eTCSPC_Prompt.txt\"),\n",
    "    \"donor\": IMP.bff.get_example_path(\"spectroscopy/hgbp1/eTCSPC_Donor.txt\"),\n",
    "    \"fret\": IMP.bff.get_example_path(\"spectroscopy/hgbp1/eTCSPC_FRET.txt\")\n",
    "}\n",
    "\n",
    "data = dict()\n",
    "for key in fns:\n",
    "    df = pd.read_csv(fns[key], skiprows=6, sep='\\t')\n",
    "    data[key] = IMP.bff.DecayCurve(x=df['Chan'] * dt, y=df['Data'])"
   ]
  },
  {
   "cell_type": "code",
   "execution_count": 3,
   "id": "5a02f23a-baf9-4a41-a059-84721d6fd226",
   "metadata": {},
   "outputs": [],
   "source": [
    "class CB(IMP.bff.CnNodeCallback):\n",
    "\n",
    "    def __init__(self, *args, **kwargs):\n",
    "        super(CB, self).__init__(*args, **kwargs)\n",
    "\n",
    "    def run(self, inputs, outputs):\n",
    "        pass\n",
    "\n",
    "def init(obj, *args, **kwargs):\n",
    "    super(obj.__class__, obj).__init__(*args, **kwargs)\n",
    "    \n",
    "    cls_kwargs = obj.cls_init\n",
    "    obj.cb = CB()\n",
    "    obj.set_callback(obj.cb)\n",
    "    cl_name = obj.cls_name.split(\".\")[-1]\n",
    "    cl = getattr(IMP.bff, cl_name)\n",
    "    obj.cls = cl(**cls_kwargs)\n",
    "    for k in obj.cls_in:\n",
    "        p = IMP.bff.CnPort()\n",
    "\n",
    "    # Method for CB class\n",
    "    def _in2out(inputs, outputs):\n",
    "        for k in obj.cls_in:\n",
    "            setattr(obj.cls, k, inputs[k].value)\n",
    "        for k in obj.cls_out:\n",
    "            v = getattr(obj.cls, k)\n",
    "            outputs[k].value = v\n",
    "    \n",
    "    # Make Ports of CnNode\n",
    "    for k in obj.cls_in:\n",
    "        v = cls_kwargs[k]\n",
    "        p = IMP.bff.CnPort(v, is_output=False)\n",
    "        obj.add_input_port(k, p)\n",
    "    for k in obj.cls_out:\n",
    "        v = cls_kwargs[k]\n",
    "        p = IMP.bff.CnPort(v, is_output=True)\n",
    "        obj.add_output_port(k, p)\n",
    "    \n",
    "    obj.cb.run = _in2out\n"
   ]
  },
  {
   "cell_type": "code",
   "execution_count": 4,
   "id": "667d7cd2-1089-4b20-bcfc-33256abf3e2e",
   "metadata": {},
   "outputs": [],
   "source": [
    "settings = {\n",
    "    \"background_settings\": {\n",
    "        \"start\": 0, \"stop\": -1,\n",
    "        \"constant_offset\": 2.,\n",
    "        \"pattern\": None,\n",
    "        \"pattern_fraction\": 0.0,\n",
    "        \"active\": True\n",
    "    },\n",
    "    \"pile_up_settings\": {\n",
    "        \"active\": False\n",
    "    },\n",
    "    \"convolution_settings\": {\n",
    "        \"start\": 100, \"stop\": 3800,\n",
    "        \"instrument_response_function\": data[\"irf\"],\n",
    "        \"convolution_method\": IMP.bff.DecayConvolution.FAST,\n",
    "        \"excitation_period\": 100,\n",
    "        \"irf_shift_channels\": 0.0,\n",
    "        \"irf_background_counts\": 0.0,\n",
    "    },\n",
    "    \"scale_settings\": {\n",
    "        \"start\": 0, \"stop\": -1,\n",
    "        \"constant_background\": 0.0,\n",
    "        \"active\": True,\n",
    "        \"blank_outside\": True\n",
    "    },\n",
    "    \"score_settings\": {\n",
    "        \"score_type\": \"poisson\",\n",
    "        \"start\": 0, \"stop\": -1    \n",
    "    }\n",
    "}"
   ]
  },
  {
   "cell_type": "code",
   "execution_count": 5,
   "id": "cb87534e-042a-40ad-9e18-7b9776b541cb",
   "metadata": {},
   "outputs": [],
   "source": [
    "attr_template = {\n",
    "    \"cls_init\" : {},\n",
    "    \"cls_in\": [],\n",
    "    \"cls_out\": [],\n",
    "    \"cls_name\": \"IMP.bff.None\",\n",
    "    \"__init__\": init\n",
    "}\n",
    "\n",
    "cls_dict = {\n",
    "    \"CnLifetime\": {\n",
    "        \"cls_init\" : {\n",
    "            'lifetime_spectrum': [0.012, 4.0, 2.2, 2.0],\n",
    "            'abs_lifetime_spectrum': True,\n",
    "            'use_amplitude_threshold': True,\n",
    "            'amplitude_threshold': 0.0\n",
    "        },\n",
    "        \"cls_in\": [\n",
    "            \"amplitude_threshold\",\n",
    "            \"lifetime_spectrum\"\n",
    "        ],\n",
    "        \"cls_out\": [\n",
    "            \"lifetime_spectrum\"\n",
    "        ],\n",
    "        \"cls_name\": \"IMP.bff.DecayLifetimeHandler\"\n",
    "    },\n",
    "    \"CnDecay\": {\n",
    "        \"cls_init\" : {\n",
    "            'x': [], 'y': []\n",
    "        },\n",
    "        \"cls_in\": [\"x\", \"y\"],\n",
    "        \"cls_out\": [\"x\", \"y\"],\n",
    "        \"cls_name\": \"IMP.bff.DecayCurve\"\n",
    "    }\n",
    "}\n",
    "\n",
    "cls_ = dict()\n",
    "for class_name in cls_dict:\n",
    "    attr = {**attr_template, **cls_dict[class_name]}\n",
    "    cls_[class_name] = type(class_name, (IMP.bff.CnNode, ), attr)\n",
    "\n",
    "\n",
    "locals().update(cls_)"
   ]
  },
  {
   "cell_type": "code",
   "execution_count": 6,
   "id": "7c3d5d47-c13d-405a-a62a-2255e6b7feba",
   "metadata": {},
   "outputs": [],
   "source": [
    "n_lt1 = CnLifetime()\n",
    "n_decay = CnDecay()"
   ]
  },
  {
   "cell_type": "code",
   "execution_count": 7,
   "id": "ce9dade2-b4eb-4b8b-80fe-c1681c00529b",
   "metadata": {},
   "outputs": [],
   "source": [
    "n_decay.inputs['y'].value = 10 * [0.0]"
   ]
  },
  {
   "cell_type": "code",
   "execution_count": 8,
   "id": "4d4b9e86-c3fe-49f0-a00a-93c4f7390e63",
   "metadata": {},
   "outputs": [],
   "source": [
    "n_decay.evaluate()"
   ]
  },
  {
   "cell_type": "code",
   "execution_count": 15,
   "id": "75641f73-db5a-477f-8fe3-999af436baa8",
   "metadata": {},
   "outputs": [
    {
     "data": {
      "text/plain": [
       "array([0., 1., 2., 3., 4., 5., 6., 7., 8., 9.])"
      ]
     },
     "execution_count": 15,
     "metadata": {},
     "output_type": "execute_result"
    }
   ],
   "source": [
    "n_decay.outputs['x'].value"
   ]
  },
  {
   "cell_type": "code",
   "execution_count": 10,
   "id": "546322f6-6b32-4ee5-91f8-3d978c6c1f6c",
   "metadata": {},
   "outputs": [],
   "source": [
    "n_lt1.evaluate()"
   ]
  },
  {
   "cell_type": "code",
   "execution_count": 11,
   "id": "abc17770-cc50-465e-ad4f-231fa020c319",
   "metadata": {},
   "outputs": [
    {
     "data": {
      "text/plain": [
       "array([0.012, 4.   , 2.2  , 2.   ])"
      ]
     },
     "execution_count": 11,
     "metadata": {},
     "output_type": "execute_result"
    }
   ],
   "source": [
    "n_lt1.outputs[\"lifetime_spectrum\"].value"
   ]
  },
  {
   "cell_type": "code",
   "execution_count": 12,
   "id": "b5ad6427-a7f0-40c8-adb3-c7f142e47d89",
   "metadata": {},
   "outputs": [
    {
     "data": {
      "text/plain": [
       "array([0., 0., 0., 0., 0., 0., 0., 0., 0., 0.])"
      ]
     },
     "execution_count": 12,
     "metadata": {},
     "output_type": "execute_result"
    }
   ],
   "source": [
    "n_decay.outputs[\"y\"].value"
   ]
  },
  {
   "cell_type": "code",
   "execution_count": 13,
   "id": "fa80a71e-9759-4ac7-a584-e919b03af85c",
   "metadata": {},
   "outputs": [
    {
     "ename": "NameError",
     "evalue": "name 'n_lt2' is not defined",
     "output_type": "error",
     "traceback": [
      "\u001b[0;31m---------------------------------------------------------------------------\u001b[0m",
      "\u001b[0;31mNameError\u001b[0m                                 Traceback (most recent call last)",
      "Input \u001b[0;32mIn [13]\u001b[0m, in \u001b[0;36m<cell line: 1>\u001b[0;34m()\u001b[0m\n\u001b[0;32m----> 1\u001b[0m \u001b[43mn_lt2\u001b[49m\u001b[38;5;241m.\u001b[39mcls_init\n",
      "\u001b[0;31mNameError\u001b[0m: name 'n_lt2' is not defined"
     ]
    }
   ],
   "source": [
    "n_lt2.cls_init"
   ]
  }
 ],
 "metadata": {
  "kernelspec": {
   "display_name": "Python 3 (ipykernel)",
   "language": "python",
   "name": "python3"
  },
  "language_info": {
   "codemirror_mode": {
    "name": "ipython",
    "version": 3
   },
   "file_extension": ".py",
   "mimetype": "text/x-python",
   "name": "python",
   "nbconvert_exporter": "python",
   "pygments_lexer": "ipython3",
   "version": "3.10.6"
  }
 },
 "nbformat": 4,
 "nbformat_minor": 5
}
