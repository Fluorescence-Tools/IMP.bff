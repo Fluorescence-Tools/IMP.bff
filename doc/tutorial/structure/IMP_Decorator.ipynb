{
 "cells": [
  {
   "cell_type": "markdown",
   "id": "3f8dbf8c",
   "metadata": {
    "pycharm": {
     "name": "#%% md\n"
    },
    "tags": [
     "nbsphinx-thumbnail",
     "nbsphinx-gallery"
    ]
   },
   "source": [
    "# IMP Decotrator"
   ]
  },
  {
   "cell_type": "code",
   "execution_count": 1,
   "id": "09362634",
   "metadata": {
    "collapsed": false,
    "jupyter": {
     "outputs_hidden": false
    },
    "pycharm": {
     "name": "#%%\n"
    }
   },
   "outputs": [],
   "source": [
    "import IMP\n",
    "import IMP.bff"
   ]
  },
  {
   "cell_type": "code",
   "execution_count": 3,
   "id": "50a1ac8e-b489-47ff-accc-631f2cd8e634",
   "metadata": {},
   "outputs": [
    {
     "name": "stdout",
     "output_type": "stream",
     "text": [
      "\"kk\"\n"
     ]
    }
   ],
   "source": [
    "k = IMP.FloatKey(\"kk\")"
   ]
  },
  {
   "cell_type": "code",
   "execution_count": 8,
   "id": "e4509970-0f75-4909-8be3-b30a9042b486",
   "metadata": {},
   "outputs": [
    {
     "data": {
      "text/plain": [
       "IMP.Decorator"
      ]
     },
     "execution_count": 8,
     "metadata": {},
     "output_type": "execute_result"
    }
   ],
   "source": [
    "IMP.Decorator"
   ]
  },
  {
   "cell_type": "code",
   "execution_count": 149,
   "id": "520e7c3b-6183-4a83-97ab-9db9bc8c6676",
   "metadata": {
    "pycharm": {
     "name": "#%%\n"
    }
   },
   "outputs": [],
   "source": [
    "class DcDecayLifetimeHandler(\n",
    "    IMP.bff.DecayLifetimeHandler,\n",
    "    IMP.Decorator\n",
    "):\n",
    "    \n",
    "    keys = [\n",
    "        IMP.IntKey(\"abs_lifetime_spectrum\"),\n",
    "        IMP.IntKey(\"use_amplitude_threshold\"),\n",
    "        IMP.FloatKey(\"amplitude_threshold\")\n",
    "    ]\n",
    "\n",
    "    @staticmethod\n",
    "    def get_name_key() -> str:\n",
    "      return IMP.StringKey(__class__.__name__)\n",
    "    \n",
    "    @staticmethod\n",
    "    def do_setup_particle(\n",
    "        m: IMP.Model,\n",
    "        p: IMP.Particle,\n",
    "        lifetime_spectrum: np.ndarray,\n",
    "        name: str = \"\",\n",
    "        abs_lifetime_spectrum: bool = True,\n",
    "        use_amplitude_threshold: bool = False,\n",
    "        amplitude_threshold: float = 0.0,\n",
    "        **kwargs\n",
    "    ):\n",
    "        m.add_attribute(__class__.get_name_key(), p, name);\n",
    "        m.add_attribute(__class__.keys[0], p, abs_lifetime_spectrum)\n",
    "        m.add_attribute(__class__.keys[1], p, use_amplitude_threshold)\n",
    "        m.add_attribute(__class__.keys[2], p, amplitude_threshold)\n",
    "        \n",
    "    @staticmethod\n",
    "    def get_is_setup(m: IMP.Model, p: IMP.Particle) -> bool:\n",
    "        return m.get_has_attribute(__class__.get_name_key(), p)\n",
    "    \n",
    "    def get_particle_index(self) -> IMP.ParticleIndex:\n",
    "        return __class__.get_particle_index(self);\n",
    "        \n",
    "    def get_particle(self, i: int) -> IMP.Particle:\n",
    "        return self.get_model().get_particle(self.get_particle_index(i))\n",
    "        \n",
    "    def get_parameters_are_optimized(self) -> bool:\n",
    "        is_optimized = 1\n",
    "        i = self.get_particle_index()\n",
    "        for k in self.keys:\n",
    "            is_optimized *= self.get_particle(i).get_is_optimized(k)\n",
    "        return bool(is_optimized)\n",
    "        \n",
    "    def __init__(\n",
    "            self, \n",
    "            particle: IMP.Particle\n",
    "    ):\n",
    "        lifetime_settings = {\n",
    "            # TODO\n",
    "        }\n",
    "        super().__init__(**lifetime_settings)\n",
    "        assert __class__.get_is_setup(m, particle), \"Particle\" + str(particle) + \" missing required attributes for \" + self.__class__.__name__\n",
    "        "
   ]
  },
  {
   "cell_type": "code",
   "execution_count": 150,
   "id": "53c41a46-f6e3-474b-aad2-be3d75287beb",
   "metadata": {
    "pycharm": {
     "name": "#%%\n"
    }
   },
   "outputs": [],
   "source": [
    "m = IMP.Model()\n",
    "p = IMP.Particle(m)\n",
    "lifetime_settings = {\n",
    "    'lifetime_spectrum': [0.8, 4.0, 0.2, 2.0],\n",
    "    'abs_lifetime_spectrum': False,   # True -> take abs of liftime spectrum\n",
    "    'use_amplitude_threshold': False, # True -> discriminate lifetimes below threshold\n",
    "    'amplitude_threshold': 0.0\n",
    "}\n",
    "d = DcDecayLifetimeHandler.do_setup_particle(m, p, **lifetime_settings)"
   ]
  },
  {
   "cell_type": "code",
   "execution_count": 153,
   "id": "2368a9a5-299c-4885-b8e2-42fa07cab129",
   "metadata": {},
   "outputs": [
    {
     "ename": "TypeError",
     "evalue": "get_model() takes 1 positional argument but 2 were given",
     "output_type": "error",
     "traceback": [
      "\u001b[0;31m---------------------------------------------------------------------------\u001b[0m",
      "\u001b[0;31mTypeError\u001b[0m                                 Traceback (most recent call last)",
      "Input \u001b[0;32mIn [153]\u001b[0m, in \u001b[0;36m<cell line: 2>\u001b[0;34m()\u001b[0m\n\u001b[1;32m      1\u001b[0m l \u001b[38;5;241m=\u001b[39m DcDecayLifetimeHandler(p)\n\u001b[0;32m----> 2\u001b[0m \u001b[43ml\u001b[49m\u001b[38;5;241;43m.\u001b[39;49m\u001b[43mget_model\u001b[49m\u001b[43m(\u001b[49m\u001b[43ml\u001b[49m\u001b[43m)\u001b[49m\n",
      "\u001b[0;31mTypeError\u001b[0m: get_model() takes 1 positional argument but 2 were given"
     ]
    }
   ],
   "source": [
    "l = DcDecayLifetimeHandler(p)\n",
    "l.get_model(l)"
   ]
  },
  {
   "cell_type": "code",
   "execution_count": 86,
   "id": "a7220325-5f2c-4cbc-a1d0-e5beadc6ead9",
   "metadata": {},
   "outputs": [
    {
     "ename": "AssertionError",
     "evalue": "Particle\"P27\" missing required attributes for DcDecayLifetimeHandler",
     "output_type": "error",
     "traceback": [
      "\u001b[0;31m---------------------------------------------------------------------------\u001b[0m",
      "\u001b[0;31mAssertionError\u001b[0m                            Traceback (most recent call last)",
      "Input \u001b[0;32mIn [86]\u001b[0m, in \u001b[0;36m<cell line: 2>\u001b[0;34m()\u001b[0m\n\u001b[1;32m      1\u001b[0m p2 \u001b[38;5;241m=\u001b[39m IMP\u001b[38;5;241m.\u001b[39mParticle(m)\n\u001b[0;32m----> 2\u001b[0m l2 \u001b[38;5;241m=\u001b[39m \u001b[43mDcDecayLifetimeHandler\u001b[49m\u001b[43m(\u001b[49m\u001b[43mp2\u001b[49m\u001b[43m)\u001b[49m\n",
      "Input \u001b[0;32mIn [84]\u001b[0m, in \u001b[0;36mDcDecayLifetimeHandler.__init__\u001b[0;34m(self, particle)\u001b[0m\n\u001b[1;32m     47\u001b[0m \u001b[38;5;28;01mdef\u001b[39;00m \u001b[38;5;21m__init__\u001b[39m(\u001b[38;5;28mself\u001b[39m, particle: IMP\u001b[38;5;241m.\u001b[39mParticle):\n\u001b[1;32m     48\u001b[0m     \u001b[38;5;28msuper\u001b[39m()\u001b[38;5;241m.\u001b[39m\u001b[38;5;21m__init__\u001b[39m(\u001b[38;5;241m*\u001b[39m\u001b[38;5;241m*\u001b[39mlifetime_settings)\n\u001b[0;32m---> 49\u001b[0m     \u001b[38;5;28;01massert\u001b[39;00m \u001b[38;5;18m__class__\u001b[39m\u001b[38;5;241m.\u001b[39mget_is_setup(m, particle), \u001b[38;5;124m\"\u001b[39m\u001b[38;5;124mParticle\u001b[39m\u001b[38;5;124m\"\u001b[39m \u001b[38;5;241m+\u001b[39m \u001b[38;5;28mstr\u001b[39m(particle) \u001b[38;5;241m+\u001b[39m \u001b[38;5;124m\"\u001b[39m\u001b[38;5;124m missing required attributes for \u001b[39m\u001b[38;5;124m\"\u001b[39m \u001b[38;5;241m+\u001b[39m \u001b[38;5;28mself\u001b[39m\u001b[38;5;241m.\u001b[39m\u001b[38;5;18m__class__\u001b[39m\u001b[38;5;241m.\u001b[39m\u001b[38;5;18m__name__\u001b[39m\n",
      "\u001b[0;31mAssertionError\u001b[0m: Particle\"P27\" missing required attributes for DcDecayLifetimeHandler"
     ]
    }
   ],
   "source": [
    "p2 = IMP.Particle(m)\n",
    "l2 = DcDecayLifetimeHandler(p2)"
   ]
  },
  {
   "cell_type": "code",
   "execution_count": null,
   "id": "a76bf492-4ac9-43e2-a9a5-46880c89d4a2",
   "metadata": {},
   "outputs": [],
   "source": []
  }
 ],
 "metadata": {
  "celltoolbar": "Tags",
  "kernelspec": {
   "display_name": "Python 3.9 (dev)",
   "language": "python",
   "name": "imp_dev"
  },
  "language_info": {
   "codemirror_mode": {
    "name": "ipython",
    "version": 3
   },
   "file_extension": ".py",
   "mimetype": "text/x-python",
   "name": "python",
   "nbconvert_exporter": "python",
   "pygments_lexer": "ipython3",
   "version": "3.9.13"
  }
 },
 "nbformat": 4,
 "nbformat_minor": 5
}
