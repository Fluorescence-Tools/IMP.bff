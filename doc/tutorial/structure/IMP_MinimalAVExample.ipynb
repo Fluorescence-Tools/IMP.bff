{
 "cells": [
  {
   "cell_type": "markdown",
   "id": "6c2a253b",
   "metadata": {
    "tags": []
   },
   "source": [
    "# Accessible Volume decorator"
   ]
  },
  {
   "cell_type": "markdown",
   "id": "61a0fa2c-5b15-4e3d-9850-3c6b7ed7c2e8",
   "metadata": {},
   "source": [
    "## Imports"
   ]
  },
  {
   "cell_type": "code",
   "execution_count": 1,
   "id": "b9925441",
   "metadata": {
    "tags": []
   },
   "outputs": [],
   "source": [
    "import IMP\n",
    "import IMP.core\n",
    "import IMP.atom\n",
    "import IMP.algebra\n",
    "import IMP.bff"
   ]
  },
  {
   "cell_type": "markdown",
   "id": "faa67db0-6190-4e2c-b6ef-214bc8359811",
   "metadata": {},
   "source": [
    "## IMP.Model\n",
    "\n",
    "Create IMP model, root particle, and a root Hierarchy. The AV decorator finds all sampled particles as leaves of a root particle and uses ``IMP.em.SampledDensityMap`` to sample the position of obstacles on a grid. Thus, the Hierarchy is ``IMP.atom.Hierarchy`` and obstacles should have a ``IMP.core.XYZR`` and a ``IMP.atom.Mass`` decorator (For atoms in a biomolecule this is already the case)."
   ]
  },
  {
   "cell_type": "code",
   "execution_count": 2,
   "id": "520e7c3b-6183-4a83-97ab-9db9bc8c6676",
   "metadata": {
    "nbsphinx-thumbnail": {
     "tooltip": "This tooltip message was defined in cell metadata"
    },
    "tags": []
   },
   "outputs": [],
   "source": [
    "m = IMP.Model()\n",
    "root_p = IMP.Particle(m)\n",
    "root_hier = IMP.atom.Hierarchy(root_p)\n",
    "\n",
    "r = 5.0\n",
    "w = 1.5\n",
    "xyzs = [\n",
    "    [[0, 0, 0], 0, w],\n",
    "    [[0, 5, 0], r, w],\n",
    "    [[5, 0, 0], r, w],\n",
    "    [[0, 5, 5], r, w]\n",
    "]\n",
    "\n",
    "obstacles = list()\n",
    "for xyz, r, w in xyzs:\n",
    "    pi = IMP.Particle(m)\n",
    "    IMP.atom.Mass.setup_particle(pi, w)\n",
    "    IMP.core.XYZR.setup_particle(pi, IMP.algebra.Sphere3D(xyz, r))\n",
    "    root_hier.add_child(IMP.atom.Hierarchy.setup_particle(pi))\n",
    "    obstacles.append(pi)\n",
    "        "
   ]
  },
  {
   "cell_type": "markdown",
   "id": "6017589f-dd1b-44ec-a0c7-fd0c536439bb",
   "metadata": {},
   "source": [
    "## IMP.bff.AV decorator\n",
    "An AV decorated particle has a source particles (usually the attachment site of the label). The IMP.atom.Hierarchy root of the source particle is used to find the obstacles."
   ]
  },
  {
   "cell_type": "code",
   "execution_count": 3,
   "id": "e49939e1-0491-484c-a76a-5d497452a9d9",
   "metadata": {},
   "outputs": [],
   "source": [
    "source_p = obstacles[0]\n",
    "av_p = IMP.Particle(m)\n",
    "av = IMP.bff.AV.setup_particle(m, av_p, source_p)"
   ]
  },
  {
   "cell_type": "markdown",
   "id": "65268822-3c03-4f86-afad-e890bce01e5c",
   "metadata": {},
   "source": [
    "When the position of particles changes the AV should be resampled."
   ]
  },
  {
   "cell_type": "code",
   "execution_count": 4,
   "id": "55ad1add-47ea-49ab-89da-18b557f63bb8",
   "metadata": {},
   "outputs": [],
   "source": [
    "av.resample()"
   ]
  },
  {
   "cell_type": "markdown",
   "id": "fbecaf30-88a7-485b-938e-59f6dacc4f73",
   "metadata": {
    "tags": []
   },
   "source": [
    "## Tile feature\n",
    "The most important attributes of tiles are the penalty and the cost\n",
    "of visiting a tile (from the starting point). Additionally, a tile\n",
    "has a density, e.g., used to implement weighted accessible volumes\n",
    "and a set of other (user-defined) features that are stored in a\n",
    "dictionary. The density / and path length from the source to a grid point are\n",
    "accesses by the ``IMP.bff.AV.map`` attribute."
   ]
  },
  {
   "cell_type": "code",
   "execution_count": 5,
   "id": "671727a7-2df2-4bf1-991d-2e3ac192db0e",
   "metadata": {},
   "outputs": [],
   "source": [
    "path_map = av.map"
   ]
  },
  {
   "cell_type": "code",
   "execution_count": 6,
   "id": "2f769219-94cc-412c-9d82-4dcc093f5a52",
   "metadata": {},
   "outputs": [],
   "source": [
    "bounds = 0.0, 30\n",
    "tile_penanlty = path_map.get_tile_values(IMP.bff.PM_TILE_PENALTY, (0, 1))\n",
    "tile_cost = path_map.get_tile_values(IMP.bff.PM_TILE_COST, bounds)\n",
    "tile_density = path_map.get_tile_values(IMP.bff.PM_TILE_COST_DENSITY, bounds)"
   ]
  },
  {
   "cell_type": "code",
   "execution_count": 7,
   "id": "bfeb5ac7-bfe4-4471-b836-8082a80899a2",
   "metadata": {},
   "outputs": [
    {
     "name": "stderr",
     "output_type": "stream",
     "text": [
      "/opt/tljh/user/envs/dev/lib/python3.9/site-packages/numpy/core/getlimits.py:499: UserWarning: The value of the smallest subnormal for <class 'numpy.float64'> type is zero.\n",
      "  setattr(self, word, getattr(machar, word).flat[0])\n",
      "/opt/tljh/user/envs/dev/lib/python3.9/site-packages/numpy/core/getlimits.py:89: UserWarning: The value of the smallest subnormal for <class 'numpy.float64'> type is zero.\n",
      "  return self._float_to_str(self.smallest_subnormal)\n"
     ]
    },
    {
     "data": {
      "image/png": "[encoded data removed]",
      "text/plain": [
       "<Figure size 432x288 with 1 Axes>"
      ]
     },
     "metadata": {
      "needs_background": "light"
     },
     "output_type": "display_data"
    }
   ],
   "source": [
    "#%%\n",
    "# These features are returned as 3D arrays.\n",
    "import pylab as plt\n",
    "layer = 14\n",
    "plt.imshow(tile_cost[layer])\n",
    "plt.show()"
   ]
  },
  {
   "cell_type": "code",
   "execution_count": 8,
   "id": "62b92191-9f15-4f68-922d-c2a93deb5b2c",
   "metadata": {},
   "outputs": [
    {
     "name": "stderr",
     "output_type": "stream",
     "text": [
      "/opt/tljh/user/envs/dev/lib/python3.9/site-packages/numpy/core/getlimits.py:499: UserWarning: The value of the smallest subnormal for <class 'numpy.float32'> type is zero.\n",
      "  setattr(self, word, getattr(machar, word).flat[0])\n",
      "/opt/tljh/user/envs/dev/lib/python3.9/site-packages/numpy/core/getlimits.py:89: UserWarning: The value of the smallest subnormal for <class 'numpy.float32'> type is zero.\n",
      "  return self._float_to_str(self.smallest_subnormal)\n",
      "/opt/tljh/user/envs/dev/lib/python3.9/site-packages/ipyvolume/serialize.py:92: RuntimeWarning: invalid value encountered in true_divide\n",
      "  gradient = gradient / np.sqrt(gradient[0] ** 2 + gradient[1] ** 2 + gradient[2] ** 2)\n"
     ]
    },
    {
     "data": {
      "application/vnd.jupyter.widget-view+json": {
       "model_id": "2fd5af41fd9f41a993ebd38b5ddc3316",
       "version_major": 2,
       "version_minor": 0
      },
      "text/plain": [
       "VBox(children=(VBox(children=(HBox(children=(Label(value='levels:'), FloatSlider(value=0.1, max=1.0, step=0.00…"
      ]
     },
     "metadata": {},
     "output_type": "display_data"
    }
   ],
   "source": [
    "import ipyvolume\n",
    "ipyvolume.quickvolshow(tile_density)"
   ]
  },
  {
   "cell_type": "code",
   "execution_count": 9,
   "id": "ea3e646a-222a-4141-bce3-c52efcbc5b09",
   "metadata": {},
   "outputs": [
    {
     "name": "stdout",
     "output_type": "stream",
     "text": [
      "\"linker_length\"\n",
      "False\n"
     ]
    }
   ],
   "source": [
    "av.has_attribute(IMP.FloatKey(\"linker_length\"))\n",
    "print(av.get_av_key(0))\n",
    "print(av.get_is_optimized(IMP.FloatKey(\"linker_length\")))"
   ]
  },
  {
   "cell_type": "code",
   "execution_count": 10,
   "id": "54ed5c0f-c30a-4c73-b43b-84d2b8abf250",
   "metadata": {},
   "outputs": [
    {
     "name": "stdout",
     "output_type": "stream",
     "text": [
      "True\n"
     ]
    }
   ],
   "source": [
    "av.set_av_parameters_are_optimized(True)\n",
    "print(av.get_is_optimized(IMP.FloatKey(\"linker_length\")))"
   ]
  },
  {
   "cell_type": "code",
   "execution_count": 11,
   "id": "e6291f09-f9d6-4290-9171-789daeb56488",
   "metadata": {},
   "outputs": [
    {
     "data": {
      "text/plain": [
       "[\"rigid bodies list\",\n",
       " \"P5\",\n",
       " \"P4\",\n",
       " \"P2\",\n",
       " \"normalize rigid bodies\",\n",
       " \"P3\",\n",
       " \"P1\",\n",
       " \"P0\"]"
      ]
     },
     "execution_count": 11,
     "metadata": {},
     "output_type": "execute_result"
    }
   ],
   "source": [
    "m.get_model_objects()"
   ]
  },
  {
   "cell_type": "code",
   "execution_count": 12,
   "id": "f122cabd-8e6b-4798-8cf2-11940f15bb71",
   "metadata": {},
   "outputs": [
    {
     "data": {
      "text/plain": [
       "20.0"
      ]
     },
     "execution_count": 12,
     "metadata": {},
     "output_type": "execute_result"
    }
   ],
   "source": [
    "m.get_attribute(IMP.FloatKey(\"linker_length\"), av)"
   ]
  },
  {
   "cell_type": "code",
   "execution_count": null,
   "id": "3005ea3c-5f1d-48b0-9d0a-3b165f4a2657",
   "metadata": {},
   "outputs": [],
   "source": [
    "IMP.bff.AVs()"
   ]
  },
  {
   "cell_type": "code",
   "execution_count": null,
   "id": "3f6f655a-ebab-4c8d-a764-cb3611e80846",
   "metadata": {},
   "outputs": [],
   "source": []
  }
 ],
 "metadata": {
  "celltoolbar": "Tags",
  "kernelspec": {
   "display_name": "Python 3.9 (dev)",
   "language": "python",
   "name": "imp_dev"
  },
  "language_info": {
   "codemirror_mode": {
    "name": "ipython",
    "version": 3
   },
   "file_extension": ".py",
   "mimetype": "text/x-python",
   "name": "python",
   "nbconvert_exporter": "python",
   "pygments_lexer": "ipython3",
   "version": "3.9.13"
  }
 },
 "nbformat": 4,
 "nbformat_minor": 5
}
